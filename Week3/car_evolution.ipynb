{
 "cells": [
  {
   "cell_type": "code",
   "execution_count": 190,
   "id": "f0c1ea43-1f93-4635-aa3c-f42b233490b4",
   "metadata": {},
   "outputs": [],
   "source": [
    "#데이터 로드\n",
    "import pandas as pd\n",
    "import seaborn as sns\n",
    "import matplotlib.pyplot as plt\n",
    "from sklearn.preprocessing import LabelEncoder\n",
    "\n",
    "file_path = \"./car_evaluation.csv\"\n",
    "df = pd.read_csv(file_path)"
   ]
  },
  {
   "cell_type": "code",
   "execution_count": 192,
   "id": "dd776fb3-4f04-49c5-b2a7-9182448005b1",
   "metadata": {},
   "outputs": [
    {
     "name": "stdout",
     "output_type": "stream",
     "text": [
      "vhigh      0\n",
      "vhigh.1    0\n",
      "2          0\n",
      "2.1        0\n",
      "small      0\n",
      "low        0\n",
      "unacc      0\n",
      "dtype: int64\n"
     ]
    }
   ],
   "source": [
    "#결측치 확인\n",
    "missing_values = df.isnull().sum()\n",
    "print(missing_values)"
   ]
  },
  {
   "cell_type": "code",
   "execution_count": 194,
   "id": "f60587df-4c12-443c-9b17-ec113d0bc4a0",
   "metadata": {},
   "outputs": [],
   "source": [
    "# 컬럼명 변경 (rename)\n",
    "df.rename(columns={\n",
    "    'vhigh': 'buying',\n",
    "    'vhigh.1': 'maint',\n",
    "    '2': 'doors',\n",
    "    '2.1': 'persons',\n",
    "    'small': 'lug_boot',\n",
    "    'low': 'safety',\n",
    "    'unacc': 'class'\n",
    "}, inplace=True)"
   ]
  },
  {
   "cell_type": "code",
   "execution_count": 196,
   "id": "29e894df-8c08-4573-a9a5-4fbb8d64c5f4",
   "metadata": {},
   "outputs": [
    {
     "data": {
      "text/plain": [
       "Index(['buying', 'maint', 'doors', 'persons', 'lug_boot', 'safety', 'class'], dtype='object')"
      ]
     },
     "execution_count": 196,
     "metadata": {},
     "output_type": "execute_result"
    }
   ],
   "source": [
    "#컬럼명 변경 확인\n",
    "df.columns"
   ]
  },
  {
   "cell_type": "code",
   "execution_count": 198,
   "id": "5c468b23-6e1b-4951-942c-b89ddbcfaaf3",
   "metadata": {},
   "outputs": [
    {
     "name": "stdout",
     "output_type": "stream",
     "text": [
      "     buying  maint  doors persons lug_boot safety  class\n",
      "0     vhigh  vhigh      2       2    small    med  unacc\n",
      "1     vhigh  vhigh      2       2    small   high  unacc\n",
      "2     vhigh  vhigh      2       2      med    low  unacc\n",
      "3     vhigh  vhigh      2       2      med    med  unacc\n",
      "4     vhigh  vhigh      2       2      med   high  unacc\n",
      "...     ...    ...    ...     ...      ...    ...    ...\n",
      "1722    low    low  5more    more      med    med   good\n",
      "1723    low    low  5more    more      med   high  vgood\n",
      "1724    low    low  5more    more      big    low  unacc\n",
      "1725    low    low  5more    more      big    med   good\n",
      "1726    low    low  5more    more      big   high  vgood\n",
      "\n",
      "[1727 rows x 7 columns]\n"
     ]
    }
   ],
   "source": [
    "# 변경된 데이터 확인\n",
    "print(df)"
   ]
  },
  {
   "cell_type": "code",
   "execution_count": 200,
   "id": "8f8f172e-570b-47a6-aac7-9d223601e371",
   "metadata": {},
   "outputs": [
    {
     "name": "stdout",
     "output_type": "stream",
     "text": [
      "      buying  maint  doors  persons  lug_boot  safety  class\n",
      "0          3      3      0        0         2       2      2\n",
      "1          3      3      0        0         2       0      2\n",
      "2          3      3      0        0         1       1      2\n",
      "3          3      3      0        0         1       2      2\n",
      "4          3      3      0        0         1       0      2\n",
      "...      ...    ...    ...      ...       ...     ...    ...\n",
      "1722       1      1      3        2         1       2      1\n",
      "1723       1      1      3        2         1       0      3\n",
      "1724       1      1      3        2         0       1      2\n",
      "1725       1      1      3        2         0       2      1\n",
      "1726       1      1      3        2         0       0      3\n",
      "\n",
      "[1727 rows x 7 columns]\n"
     ]
    }
   ],
   "source": [
    "# LabelEncoder 초기화\n",
    "\n",
    "label_encoder = LabelEncoder()\n",
    "\n",
    "# 특정 컬럼만 인코딩\n",
    "\n",
    "columns_to_encode = ['buying', 'maint', 'doors', 'persons', 'lug_boot', 'safety', 'class']  # 인코딩할 컬럼 리스트\n",
    "\n",
    "for column in columns_to_encode:\n",
    "\n",
    "    df[column] = label_encoder.fit_transform(df[column])\n",
    "\n",
    "print(df)"
   ]
  },
  {
   "cell_type": "code",
   "execution_count": 202,
   "id": "b02ccbe3-92db-4022-844b-4f95c5ffe66a",
   "metadata": {},
   "outputs": [],
   "source": [
    "import numpy as np\n",
    "from sklearn.model_selection import train_test_split\n",
    "from sklearn.ensemble import RandomForestRegressor\n",
    "from sklearn.linear_model import LinearRegression\n",
    "from sklearn.metrics import mean_squared_error\n",
    "from sklearn.tree import DecisionTreeRegressor\n",
    "from sklearn.svm import SVR\n",
    "import seaborn as sns\n",
    "import matplotlib.pyplot as plt"
   ]
  },
  {
   "cell_type": "code",
   "execution_count": 204,
   "id": "bc3f9631-8874-4f3a-9c84-6728a1f467e1",
   "metadata": {},
   "outputs": [],
   "source": [
    "# 특성(X)과 타겟(y) 데이터 정의\n",
    "X = df.drop(columns=['class'], axis = 1)  # 'survived'는 예측할 값이므로 제외\n",
    "y = df['class']  # 타겟 값 'survived'"
   ]
  },
  {
   "cell_type": "code",
   "execution_count": 206,
   "id": "303ed6d0-4b83-446f-98cd-5ab850359cef",
   "metadata": {},
   "outputs": [],
   "source": [
    "X_train, X_test, y_train, y_test = train_test_split(X, y, test_size=0.2, random_state=42)"
   ]
  },
  {
   "cell_type": "code",
   "execution_count": 208,
   "id": "d8879835-03ac-40f0-89c1-0a0dbfd382c0",
   "metadata": {},
   "outputs": [],
   "source": [
    "# 분류 모델 리스트\n",
    "models = {\n",
    "    \"Random Forest\": RandomForestClassifier(max_depth = 5, random_state=42),\n",
    "    \"Decision Tree\": DecisionTreeClassifier(max_depth = 3, random_state=42),\n",
    "    \"Support Vector Machine\": SVC(random_state=42),\n",
    "    \"Logistic Regression\": LogisticRegression(max_iter=200, random_state=42)\n",
    "}"
   ]
  },
  {
   "cell_type": "code",
   "execution_count": 210,
   "id": "ce3a9167-b136-44dd-8b6a-30ac42a40d43",
   "metadata": {},
   "outputs": [
    {
     "name": "stdout",
     "output_type": "stream",
     "text": [
      "Evaluating Random Forest:\n",
      "Accuracy: 0.8237\n",
      "Evaluating Decision Tree:\n",
      "Accuracy: 0.7832\n",
      "Evaluating Support Vector Machine:\n",
      "Accuracy: 0.8988\n",
      "Evaluating Logistic Regression:\n",
      "Accuracy: 0.6850\n"
     ]
    }
   ],
   "source": [
    "# 모델 학습 및 평가\n",
    "for model_name, model in models.items():\n",
    "    print(f\"Evaluating {model_name}:\")\n",
    "    \n",
    "    # 모델 학습\n",
    "    model.fit(X_train, y_train)\n",
    "    \n",
    "    # 예측\n",
    "    y_pred = model.predict(X_test)\n",
    "    \n",
    "    # 정확도 평가\n",
    "    accuracy = accuracy_score(y_test, y_pred)\n",
    "    print(f\"Accuracy: {accuracy:.4f}\")"
   ]
  },
  {
   "cell_type": "code",
   "execution_count": 214,
   "id": "0789419e-6778-41e0-a3f2-20fb90a176bd",
   "metadata": {},
   "outputs": [
    {
     "data": {
      "image/png": "[encoded data removed]",
      "text/plain": [
       "<Figure size 500x400 with 2 Axes>"
      ]
     },
     "metadata": {},
     "output_type": "display_data"
    }
   ],
   "source": [
    "# Confusion Matrix\n",
    "cm = confusion_matrix(y_test, y_pred, labels=[0, 1])\n",
    "plt.figure(figsize=(5, 4))\n",
    "sns.heatmap(cm, annot=True, fmt='d', cmap='Blues', xticklabels=['unacc', 'acc'], yticklabels=['good', 'vgood'])\n",
    "plt.title(f\"Confusion Matrix for {model_name}\")\n",
    "plt.xlabel('Predicted')\n",
    "plt.ylabel('True')\n",
    "\n",
    "# 그래프 출력\n",
    "plt.show()"
   ]
  }
 ],
 "metadata": {
  "kernelspec": {
   "display_name": "Python 3 (ipykernel)",
   "language": "python",
   "name": "python3"
  },
  "language_info": {
   "codemirror_mode": {
    "name": "ipython",
    "version": 3
   },
   "file_extension": ".py",
   "mimetype": "text/x-python",
   "name": "python",
   "nbconvert_exporter": "python",
   "pygments_lexer": "ipython3",
   "version": "3.12.7"
  }
 },
 "nbformat": 4,
 "nbformat_minor": 5
}
