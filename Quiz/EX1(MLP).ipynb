{
 "cells": [
  {
   "cell_type": "code",
   "execution_count": 181,
   "metadata": {
    "colab": {
     "base_uri": "https://localhost:8080/",
     "height": 423
    },
    "id": "Fx-Ag6gur2I7",
    "outputId": "98b6e762-54f6-4480-a1fc-1ae473cfd613"
   },
   "outputs": [],
   "source": [
    "import numpy as np\n",
    "import pandas as pd\n",
    "import seaborn as sns\n",
    "from sklearn.model_selection import train_test_split\n",
    "import tensorflow as tf\n",
    "from sklearn.preprocessing import StandardScaler, LabelEncoder\n",
    "import matplotlib.pyplot as plt\n",
    "from tensorflow import keras\n",
    "from tensorflow.keras.utils import to_categorical\n",
    "from sklearn.neural_network import MLPClassifier\n",
    "from sklearn.metrics import accuracy_score\n",
    "from sklearn.metrics import confusion_matrix\n",
    "\n",
    "df = pd.read_csv(\"./breast_cancer.csv\")"
   ]
  },
  {
   "cell_type": "code",
   "execution_count": 183,
   "metadata": {
    "id": "hDxir3Kjr2MU"
   },
   "outputs": [
    {
     "name": "stdout",
     "output_type": "stream",
     "text": [
      "     Unnamed: 0  mean radius  mean texture  mean perimeter  mean area  \\\n",
      "0             0        17.99         10.38          122.80     1001.0   \n",
      "1             1        20.57         17.77          132.90     1326.0   \n",
      "2             2        19.69         21.25          130.00     1203.0   \n",
      "3             3        11.42         20.38           77.58      386.1   \n",
      "4             4        20.29         14.34          135.10     1297.0   \n",
      "..          ...          ...           ...             ...        ...   \n",
      "564         564        21.56         22.39          142.00     1479.0   \n",
      "565         565        20.13         28.25          131.20     1261.0   \n",
      "566         566        16.60         28.08          108.30      858.1   \n",
      "567         567        20.60         29.33          140.10     1265.0   \n",
      "568         568         7.76         24.54           47.92      181.0   \n",
      "\n",
      "     mean smoothness  mean compactness  mean concavity  mean concave points  \\\n",
      "0            0.11840           0.27760         0.30010              0.14710   \n",
      "1            0.08474           0.07864         0.08690              0.07017   \n",
      "2            0.10960           0.15990         0.19740              0.12790   \n",
      "3            0.14250           0.28390         0.24140              0.10520   \n",
      "4            0.10030           0.13280         0.19800              0.10430   \n",
      "..               ...               ...             ...                  ...   \n",
      "564          0.11100           0.11590         0.24390              0.13890   \n",
      "565          0.09780           0.10340         0.14400              0.09791   \n",
      "566          0.08455           0.10230         0.09251              0.05302   \n",
      "567          0.11780           0.27700         0.35140              0.15200   \n",
      "568          0.05263           0.04362         0.00000              0.00000   \n",
      "\n",
      "     mean symmetry  ...  worst texture  worst perimeter  worst area  \\\n",
      "0           0.2419  ...          17.33           184.60      2019.0   \n",
      "1           0.1812  ...          23.41           158.80      1956.0   \n",
      "2           0.2069  ...          25.53           152.50      1709.0   \n",
      "3           0.2597  ...          26.50            98.87       567.7   \n",
      "4           0.1809  ...          16.67           152.20      1575.0   \n",
      "..             ...  ...            ...              ...         ...   \n",
      "564         0.1726  ...          26.40           166.10      2027.0   \n",
      "565         0.1752  ...          38.25           155.00      1731.0   \n",
      "566         0.1590  ...          34.12           126.70      1124.0   \n",
      "567         0.2397  ...          39.42           184.60      1821.0   \n",
      "568         0.1587  ...          30.37            59.16       268.6   \n",
      "\n",
      "     worst smoothness  worst compactness  worst concavity  \\\n",
      "0             0.16220            0.66560           0.7119   \n",
      "1             0.12380            0.18660           0.2416   \n",
      "2             0.14440            0.42450           0.4504   \n",
      "3             0.20980            0.86630           0.6869   \n",
      "4             0.13740            0.20500           0.4000   \n",
      "..                ...                ...              ...   \n",
      "564           0.14100            0.21130           0.4107   \n",
      "565           0.11660            0.19220           0.3215   \n",
      "566           0.11390            0.30940           0.3403   \n",
      "567           0.16500            0.86810           0.9387   \n",
      "568           0.08996            0.06444           0.0000   \n",
      "\n",
      "     worst concave points  worst symmetry  worst fractal dimension  label  \n",
      "0                  0.2654          0.4601                  0.11890      0  \n",
      "1                  0.1860          0.2750                  0.08902      0  \n",
      "2                  0.2430          0.3613                  0.08758      0  \n",
      "3                  0.2575          0.6638                  0.17300      0  \n",
      "4                  0.1625          0.2364                  0.07678      0  \n",
      "..                    ...             ...                      ...    ...  \n",
      "564                0.2216          0.2060                  0.07115      0  \n",
      "565                0.1628          0.2572                  0.06637      0  \n",
      "566                0.1418          0.2218                  0.07820      0  \n",
      "567                0.2650          0.4087                  0.12400      0  \n",
      "568                0.0000          0.2871                  0.07039      1  \n",
      "\n",
      "[569 rows x 32 columns]\n"
     ]
    }
   ],
   "source": [
    "print(df)"
   ]
  },
  {
   "cell_type": "code",
   "execution_count": 185,
   "metadata": {},
   "outputs": [],
   "source": [
    "X = df.drop(\"label\", axis=1)\n",
    "y = df[\"label\"] \n",
    "X_train, X_test, y_train, y_test = train_test_split(X, y, test_size=0.2, random_state=0)"
   ]
  },
  {
   "cell_type": "code",
   "execution_count": 187,
   "metadata": {
    "colab": {
     "base_uri": "https://localhost:8080/"
    },
    "id": "4FwtF-slr2PS",
    "outputId": "9150f42b-2db4-4544-f03d-52725c972184"
   },
   "outputs": [],
   "source": [
    "# Split the dataset into training and test sets\n",
    "# Standardize the data\n",
    "scaler = StandardScaler()\n",
    "X = scaler.fit_transform(X)"
   ]
  },
  {
   "cell_type": "code",
   "execution_count": 189,
   "metadata": {},
   "outputs": [],
   "source": [
    "le = LabelEncoder()\n",
    "y_encoded = le.fit_transform(y)     \n",
    "y_onehot = to_categorical(y_encoded)"
   ]
  },
  {
   "cell_type": "code",
   "execution_count": 191,
   "metadata": {},
   "outputs": [
    {
     "data": {
      "text/plain": [
       "((455, 31), (114, 31), (455,), (114,))"
      ]
     },
     "execution_count": 191,
     "metadata": {},
     "output_type": "execute_result"
    }
   ],
   "source": [
    "X_train.shape, X_test.shape, y_train.shape, y_test.shape"
   ]
  },
  {
   "cell_type": "code",
   "execution_count": 193,
   "metadata": {
    "colab": {
     "base_uri": "https://localhost:8080/"
    },
    "id": "2FP0XaIwzOcr",
    "outputId": "ebf19168-0730-484b-cf75-b348d2aff0e3"
   },
   "outputs": [
    {
     "name": "stdout",
     "output_type": "stream",
     "text": [
      "\n",
      "--- SVM Classifier ---\n",
      "SVM 정확도: 0.9122807017543859\n"
     ]
    }
   ],
   "source": [
    "from sklearn.svm import SVC\n",
    "\n",
    "clf_svm = SVC(random_state=0)\n",
    "clf_svm.fit(X_train, y_train)\n",
    "\n",
    "pred_svm = clf_svm.predict(X_test)\n",
    "\n",
    "print(\"\\n--- SVM Classifier ---\")\n",
    "print(\"SVM 정확도:\", accuracy_score(y_test, pred_svm))"
   ]
  },
  {
   "cell_type": "code",
   "execution_count": 195,
   "metadata": {},
   "outputs": [
    {
     "name": "stdout",
     "output_type": "stream",
     "text": [
      "\n",
      "--- SVM Classifier ---\n",
      "[[40  7]\n",
      " [ 3 64]]\n"
     ]
    }
   ],
   "source": [
    "print(\"\\n--- SVM Classifier ---\")\n",
    "print(confusion_matrix(y_test, pred_svm))"
   ]
  },
  {
   "cell_type": "code",
   "execution_count": 220,
   "metadata": {},
   "outputs": [
    {
     "name": "stdout",
     "output_type": "stream",
     "text": [
      "SVM 정확도: 0.9122807017543859\n"
     ]
    }
   ],
   "source": [
    "# 모델 생성\n",
    "svm = SVC(random_state=42)\n",
    "\n",
    "# 학습\n",
    "svm.fit(X_train, y_train)\n",
    "\n",
    "# 예측\n",
    "y_pred = svm.predict(X_test)\n",
    "\n",
    "# 정확도\n",
    "print(\"SVM 정확도:\", accuracy_score(y_test, y_pred))"
   ]
  },
  {
   "cell_type": "code",
   "execution_count": 199,
   "metadata": {
    "colab": {
     "base_uri": "https://localhost:8080/"
    },
    "id": "cxe9K4LUzxIi",
    "outputId": "1651c912-3f53-487b-bd96-1ef8da66827d"
   },
   "outputs": [
    {
     "name": "stdout",
     "output_type": "stream",
     "text": [
      "\n",
      "--- Logistic Regression Classifier ---\n",
      "Logistic Regression 정확도: 0.9736842105263158\n"
     ]
    }
   ],
   "source": [
    "from sklearn.linear_model import LogisticRegression\n",
    "\n",
    "model_lr = LogisticRegression(max_iter=1000, random_state=0)\n",
    "model_lr.fit(X_train, y_train)\n",
    "y_pred_lr = model_lr.predict(X_test)\n",
    "\n",
    "\n",
    "print(\"\\n--- Logistic Regression Classifier ---\")\n",
    "print(\"Logistic Regression 정확도:\", accuracy_score(y_test, y_pred_lr))"
   ]
  },
  {
   "cell_type": "code",
   "execution_count": 201,
   "metadata": {},
   "outputs": [
    {
     "name": "stdout",
     "output_type": "stream",
     "text": [
      "\n",
      "--- Logistic Regression Classifier ---\n",
      "Confusion Matrix:\n",
      " [[46  1]\n",
      " [ 2 65]]\n"
     ]
    }
   ],
   "source": [
    "print(\"\\n--- Logistic Regression Classifier ---\")\n",
    "print(\"Confusion Matrix:\\n\", confusion_matrix(y_test, y_pred_lr))"
   ]
  },
  {
   "cell_type": "code",
   "execution_count": 222,
   "metadata": {},
   "outputs": [
    {
     "name": "stdout",
     "output_type": "stream",
     "text": [
      "Logistic Regression 정확도: 0.9736842105263158\n"
     ]
    }
   ],
   "source": [
    "# 모델 생성\n",
    "lr = LogisticRegression(max_iter=1000, random_state=42)\n",
    "\n",
    "# 학습\n",
    "lr.fit(X_train, y_train)\n",
    "\n",
    "# 예측\n",
    "y_pred = lr.predict(X_test)\n",
    "\n",
    "# 정확도\n",
    "print(\"Logistic Regression 정확도:\", accuracy_score(y_test, y_pred))\n"
   ]
  },
  {
   "cell_type": "code",
   "execution_count": 205,
   "metadata": {
    "colab": {
     "base_uri": "https://localhost:8080/"
    },
    "id": "lEGr0RXRzxMq",
    "outputId": "36ebe0f7-0d1d-4288-9790-63d26b58eda7"
   },
   "outputs": [
    {
     "name": "stdout",
     "output_type": "stream",
     "text": [
      "\n",
      "--- Decision Tree Classifier ---\n",
      "Decision Tree 정확도: 0.8947368421052632\n"
     ]
    }
   ],
   "source": [
    "from sklearn.tree import DecisionTreeClassifier\n",
    "\n",
    "model_dt = DecisionTreeClassifier(random_state=0)\n",
    "model_dt.fit(X_train, y_train)\n",
    "y_pred_dt = model_dt.predict(X_test)\n",
    "\n",
    "print(\"\\n--- Decision Tree Classifier ---\")\n",
    "print(\"Decision Tree 정확도:\", accuracy_score(y_test, y_pred_dt))"
   ]
  },
  {
   "cell_type": "code",
   "execution_count": 207,
   "metadata": {},
   "outputs": [
    {
     "name": "stdout",
     "output_type": "stream",
     "text": [
      "\n",
      "--- Decision Tree Classifier ---\n",
      "Confusion Matrix:\n",
      " [[43  4]\n",
      " [ 8 59]]\n"
     ]
    }
   ],
   "source": [
    "print(\"\\n--- Decision Tree Classifier ---\")\n",
    "print(\"Confusion Matrix:\\n\", confusion_matrix(y_test, y_pred_dt))"
   ]
  },
  {
   "cell_type": "code",
   "execution_count": 224,
   "metadata": {},
   "outputs": [
    {
     "name": "stdout",
     "output_type": "stream",
     "text": [
      "Decision Tree 정확도: 0.9210526315789473\n"
     ]
    }
   ],
   "source": [
    "# 모델 생성\n",
    "dt = DecisionTreeClassifier(random_state=42)\n",
    "\n",
    "# 학습\n",
    "dt.fit(X_train, y_train)\n",
    "\n",
    "# 예측\n",
    "y_pred = dt.predict(X_test)\n",
    "\n",
    "# 정확도\n",
    "print(\"Decision Tree 정확도:\", accuracy_score(y_test, y_pred))\n"
   ]
  },
  {
   "cell_type": "code",
   "execution_count": 211,
   "metadata": {
    "colab": {
     "base_uri": "https://localhost:8080/"
    },
    "id": "e1RLjJ1kzxO6",
    "outputId": "33d4716b-8a15-4fc2-f27e-cc1b1591db19"
   },
   "outputs": [
    {
     "name": "stdout",
     "output_type": "stream",
     "text": [
      "\n",
      "--- Random Forest Classifier ---\n",
      "Random Forest Accuracy: 0.9824561403508771\n"
     ]
    }
   ],
   "source": [
    "from sklearn.ensemble import RandomForestClassifier\n",
    "\n",
    "model_rf = RandomForestClassifier(random_state=0)\n",
    "model_rf.fit(X_train, y_train)\n",
    "y_pred_rf = model_rf.predict(X_test)\n",
    "\n",
    "print(\"\\n--- Random Forest Classifier ---\")\n",
    "print(\"Random Forest Accuracy:\", accuracy_score(y_test, y_pred_rf))"
   ]
  },
  {
   "cell_type": "code",
   "execution_count": 213,
   "metadata": {},
   "outputs": [
    {
     "name": "stdout",
     "output_type": "stream",
     "text": [
      "\n",
      "--- Random Forest Classifier ---\n",
      "Confusion Matrix:\n",
      " [[46  1]\n",
      " [ 1 66]]\n"
     ]
    }
   ],
   "source": [
    "print(\"\\n--- Random Forest Classifier ---\")\n",
    "print(\"Confusion Matrix:\\n\", confusion_matrix(y_test, y_pred_rf))"
   ]
  },
  {
   "cell_type": "code",
   "execution_count": 226,
   "metadata": {},
   "outputs": [
    {
     "name": "stdout",
     "output_type": "stream",
     "text": [
      "Random Forest 정확도: 0.956140350877193\n"
     ]
    }
   ],
   "source": [
    "# 모델 생성\n",
    "rf = RandomForestClassifier(random_state=42)\n",
    "\n",
    "# 학습\n",
    "rf.fit(X_train, y_train)\n",
    "\n",
    "# 예측\n",
    "y_pred = rf.predict(X_test)\n",
    "\n",
    "# 정확도\n",
    "print(\"Random Forest 정확도:\", accuracy_score(y_test, y_pred))\n"
   ]
  }
 ],
 "metadata": {
  "colab": {
   "provenance": []
  },
  "kernelspec": {
   "display_name": "Python 3 (ipykernel)",
   "language": "python",
   "name": "python3"
  },
  "language_info": {
   "codemirror_mode": {
    "name": "ipython",
    "version": 3
   },
   "file_extension": ".py",
   "mimetype": "text/x-python",
   "name": "python",
   "nbconvert_exporter": "python",
   "pygments_lexer": "ipython3",
   "version": "3.12.7"
  }
 },
 "nbformat": 4,
 "nbformat_minor": 4
}
