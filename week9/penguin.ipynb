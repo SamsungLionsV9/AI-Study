{
 "cells": [
  {
   "cell_type": "code",
   "execution_count": 463,
   "id": "9304e6e0-47dc-4403-88f4-fc8e29593946",
   "metadata": {},
   "outputs": [],
   "source": [
    "import pandas as pd\n",
    "import numpy as np\n",
    "from sklearn.preprocessing import StandardScaler\n",
    "from sklearn.model_selection import train_test_split\n",
    "import seaborn as sns\n",
    "import torch\n",
    "import torch.nn as nn\n",
    "from torch import optim\n",
    "from torch.utils.data import TensorDataset, DataLoader\n",
    "\n",
    "url = \"https://raw.githubusercontent.com/mwaskom/seaborn-data/master/penguins.csv\"\n",
    "\n",
    "# 데이터 읽기\n",
    "\n",
    "penguins = pd.read_csv(url)"
   ]
  },
  {
   "cell_type": "code",
   "execution_count": 464,
   "id": "8478ffc4-89bb-4025-ab81-78f861826254",
   "metadata": {},
   "outputs": [
    {
     "name": "stdout",
     "output_type": "stream",
     "text": [
      "    species     island  bill_length_mm  bill_depth_mm  flipper_length_mm  \\\n",
      "0    Adelie  Torgersen            39.1           18.7              181.0   \n",
      "1    Adelie  Torgersen            39.5           17.4              186.0   \n",
      "2    Adelie  Torgersen            40.3           18.0              195.0   \n",
      "3    Adelie  Torgersen             NaN            NaN                NaN   \n",
      "4    Adelie  Torgersen            36.7           19.3              193.0   \n",
      "..      ...        ...             ...            ...                ...   \n",
      "339  Gentoo     Biscoe             NaN            NaN                NaN   \n",
      "340  Gentoo     Biscoe            46.8           14.3              215.0   \n",
      "341  Gentoo     Biscoe            50.4           15.7              222.0   \n",
      "342  Gentoo     Biscoe            45.2           14.8              212.0   \n",
      "343  Gentoo     Biscoe            49.9           16.1              213.0   \n",
      "\n",
      "     body_mass_g     sex  \n",
      "0         3750.0    MALE  \n",
      "1         3800.0  FEMALE  \n",
      "2         3250.0  FEMALE  \n",
      "3            NaN     NaN  \n",
      "4         3450.0  FEMALE  \n",
      "..           ...     ...  \n",
      "339          NaN     NaN  \n",
      "340       4850.0  FEMALE  \n",
      "341       5750.0    MALE  \n",
      "342       5200.0  FEMALE  \n",
      "343       5400.0    MALE  \n",
      "\n",
      "[344 rows x 7 columns]\n"
     ]
    }
   ],
   "source": [
    "print(penguins)"
   ]
  },
  {
   "cell_type": "code",
   "execution_count": 465,
   "id": "414c6f04-b0f6-4be9-b0bf-2efd2b021dea",
   "metadata": {},
   "outputs": [
    {
     "name": "stdout",
     "output_type": "stream",
     "text": [
      "species               0\n",
      "island                0\n",
      "bill_length_mm        2\n",
      "bill_depth_mm         2\n",
      "flipper_length_mm     2\n",
      "body_mass_g           2\n",
      "sex                  11\n",
      "dtype: int64\n"
     ]
    }
   ],
   "source": [
    "#결측치 확인\n",
    "missing_values = df.isnull().sum()\n",
    "print(missing_values)\n",
    "\n",
    "# 결측치 제거\n",
    "penguins.dropna(inplace=True)"
   ]
  },
  {
   "cell_type": "code",
   "execution_count": 469,
   "id": "63f0e9b7-56d2-4737-8c49-8ae7861f3f5c",
   "metadata": {},
   "outputs": [
    {
     "name": "stdout",
     "output_type": "stream",
     "text": [
      "  species     island  bill_length_mm  bill_depth_mm  flipper_length_mm  \\\n",
      "0  Adelie  Torgersen            39.1           18.7              181.0   \n",
      "1  Adelie  Torgersen            39.5           17.4              186.0   \n",
      "2  Adelie  Torgersen            40.3           18.0              195.0   \n",
      "4  Adelie  Torgersen            36.7           19.3              193.0   \n",
      "5  Adelie  Torgersen            39.3           20.6              190.0   \n",
      "\n",
      "   body_mass_g     sex  \n",
      "0       3750.0    MALE  \n",
      "1       3800.0  FEMALE  \n",
      "2       3250.0  FEMALE  \n",
      "4       3450.0  FEMALE  \n",
      "5       3650.0    MALE  \n",
      "species              0\n",
      "island               0\n",
      "bill_length_mm       0\n",
      "bill_depth_mm        0\n",
      "flipper_length_mm    0\n",
      "body_mass_g          0\n",
      "sex                  0\n",
      "dtype: int64\n"
     ]
    }
   ],
   "source": [
    "print(penguins.head()) \n",
    "print(penguins.isnull().sum()) "
   ]
  },
  {
   "cell_type": "code",
   "execution_count": 471,
   "id": "36bae951-79ba-4a26-8f04-ad2233f404dc",
   "metadata": {},
   "outputs": [],
   "source": [
    "# 원-핫 인코딩: sex, island 등 문자열 모두 포함해서\n",
    "penguins_encoded = pd.get_dummies(penguins, drop_first=True)\n",
    "\n",
    "X = penguins.drop('species', axis=1)\n",
    "y = penguins['species']\n",
    "\n",
    "#원핫 인코딩(마지막 열)\n",
    "X_encoded = pd.get_dummies(X, drop_first=True)\n",
    "\n",
    "#인코딩 된 X 스케일링\n",
    "scaler = StandardScaler()\n",
    "X_scaled = scaler.fit_transform(X_encoded)\n",
    "\n",
    "#Y 스케일링\n",
    "from sklearn.preprocessing import LabelEncoder\n",
    "le = LabelEncoder()\n",
    "y_encoded = le.fit_transform(y_encoded)"
   ]
  },
  {
   "cell_type": "code",
   "execution_count": 473,
   "id": "20e39336-46e1-45eb-8b49-a55d9e926b51",
   "metadata": {},
   "outputs": [],
   "source": [
    "#Train/Test 분할\n",
    "\n",
    "from sklearn.model_selection import train_test_split\n",
    "X_train, X_test, y_train, y_test = train_test_split(\n",
    "    X_scaled, y_encoded, test_size=0.2, random_state=42\n",
    ")"
   ]
  },
  {
   "cell_type": "code",
   "execution_count": 475,
   "id": "dbead25b-9572-4e6b-a9e5-e43d7ec33aa4",
   "metadata": {},
   "outputs": [],
   "source": [
    "from tensorflow.keras.models import Sequential\n",
    "from tensorflow.keras.layers import Dense, Input\n",
    "from tensorflow.keras.utils import to_categorical"
   ]
  },
  {
   "cell_type": "code",
   "execution_count": 477,
   "id": "6a968d89-2ea1-487e-b7c6-51427a54b77b",
   "metadata": {},
   "outputs": [
    {
     "data": {
      "image/png": "[encoded data removed]",
      "text/plain": [
       "<Figure size 640x480 with 1 Axes>"
      ]
     },
     "metadata": {},
     "output_type": "display_data"
    }
   ],
   "source": [
    "import matplotlib.pyplot as plt\n",
    "\n",
    "penguins.species.value_counts().plot(\n",
    "    kind='pie',\n",
    "    autopct='%0.05f%%',\n",
    "    colors=['lightblue', 'lightgreen', 'orange', 'pink'],\n",
    "    explode=(0.05, 0.05, 0.05) #타겟 분류 종류갯수 만큼\n",
    ")\n",
    "plt.title(\"species Distribution\")\n",
    "plt.ylabel(\"\")  # y축 라벨 없애기\n",
    "plt.show()"
   ]
  },
  {
   "cell_type": "code",
   "execution_count": 479,
   "id": "e199744c-e11b-4250-92b2-f8cd5163ad24",
   "metadata": {},
   "outputs": [
    {
     "data": {
      "text/plain": [
       "Index(['species', 'island', 'bill_length_mm', 'bill_depth_mm',\n",
       "       'flipper_length_mm', 'body_mass_g', 'sex'],\n",
       "      dtype='object')"
      ]
     },
     "execution_count": 479,
     "metadata": {},
     "output_type": "execute_result"
    }
   ],
   "source": [
    "penguins.columns"
   ]
  },
  {
   "cell_type": "code",
   "execution_count": 481,
   "id": "57a45b86-2cee-4fe5-9b4d-e0687d1280e5",
   "metadata": {},
   "outputs": [],
   "source": [
    "columns = ['species', 'island', 'bill_length_mm', 'bill_depth_mm',\n",
    "       'flipper_length_mm', 'body_mass_g', 'sex']"
   ]
  },
  {
   "cell_type": "code",
   "execution_count": 483,
   "id": "13e78058-5726-4b01-ba17-9c8e7e12f9bb",
   "metadata": {},
   "outputs": [],
   "source": [
    "#딥러닝\n",
    "X_train = torch.tensor(np.array(X_train), dtype=torch.float32)\n",
    "y_train = torch.tensor(np.array(y_train), dtype=torch.int64)\n",
    "X_test = torch.tensor(np.array(X_test), dtype=torch.float32)\n",
    "y_test = torch.tensor(np.array(y_test), dtype=torch.int64)"
   ]
  },
  {
   "cell_type": "code",
   "execution_count": 485,
   "id": "7832f2bf-5ab5-4150-a034-1e8a50222ad9",
   "metadata": {},
   "outputs": [],
   "source": [
    "# Create DataLoader\n",
    "train_dataset = TensorDataset(X_train, y_train)\n",
    "train_dataloader = DataLoader(train_dataset, batch_size=32, shuffle=True)\n",
    "\n",
    "test_dataset = TensorDataset(X_test, y_test)\n",
    "test_dataloader = DataLoader(test_dataset, batch_size=32, shuffle=False)"
   ]
  },
  {
   "cell_type": "code",
   "execution_count": 487,
   "id": "23a98e8b-edf0-4240-99cb-89613df22575",
   "metadata": {},
   "outputs": [
    {
     "data": {
      "text/plain": [
       "(torch.Size([266, 7]),\n",
       " torch.Size([67, 7]),\n",
       " torch.Size([266]),\n",
       " torch.Size([67]))"
      ]
     },
     "execution_count": 487,
     "metadata": {},
     "output_type": "execute_result"
    }
   ],
   "source": [
    "X_train.shape, X_test.shape, y_train.shape, y_test.shape"
   ]
  },
  {
   "cell_type": "code",
   "execution_count": 489,
   "id": "5b271d5d-6706-4c41-be65-efe3704f080e",
   "metadata": {},
   "outputs": [],
   "source": [
    "#Pytorch model 정의\n",
    "\n",
    "class SpeciesOutcome(nn.Module):\n",
    "    def __init__(self):\n",
    "        super(SpeciesOutcome, self).__init__()\n",
    "        self.fc1 = nn.Linear(7, 64)\n",
    "        self.fc2 = nn.Linear(64, 32)\n",
    "        self.fc3 = nn.Linear(32, 4)  # 4 classes in the dataset\n",
    "    \n",
    "    def forward(self, x):\n",
    "        x = torch.relu(self.fc1(x))\n",
    "        x = torch.relu(self.fc2(x))\n",
    "        x = self.fc3(x)\n",
    "        return x\n",
    "\n",
    "# Initialize the model, loss function, and optimizer\n",
    "model = SpeciesOutcome()"
   ]
  },
  {
   "cell_type": "code",
   "execution_count": 491,
   "id": "88593b47-63a8-46cd-ae16-d312b8579f74",
   "metadata": {},
   "outputs": [],
   "source": [
    "#손실 함수 최적화 기법\n",
    "\n",
    "criterion = nn.CrossEntropyLoss()\n",
    "optimizer = optim.Adam(model.parameters(), lr=0.001)"
   ]
  },
  {
   "cell_type": "code",
   "execution_count": 493,
   "id": "2d159da1-d162-4ded-8390-fee8c2234b1d",
   "metadata": {},
   "outputs": [
    {
     "name": "stdout",
     "output_type": "stream",
     "text": [
      "Epoch 1/20, Loss: 1.3609, Accuracy: 50.75%\n",
      "Epoch 2/20, Loss: 1.2326, Accuracy: 89.55%\n",
      "Epoch 3/20, Loss: 1.0822, Accuracy: 95.52%\n",
      "Epoch 4/20, Loss: 0.9013, Accuracy: 97.01%\n",
      "Epoch 5/20, Loss: 0.7124, Accuracy: 98.51%\n",
      "Epoch 6/20, Loss: 0.5294, Accuracy: 98.51%\n",
      "Epoch 7/20, Loss: 0.3777, Accuracy: 98.51%\n",
      "Epoch 8/20, Loss: 0.2618, Accuracy: 98.51%\n",
      "Epoch 9/20, Loss: 0.1788, Accuracy: 100.00%\n",
      "Epoch 10/20, Loss: 0.1329, Accuracy: 100.00%\n",
      "Epoch 11/20, Loss: 0.0991, Accuracy: 100.00%\n",
      "Epoch 12/20, Loss: 0.0779, Accuracy: 100.00%\n",
      "Epoch 13/20, Loss: 0.0622, Accuracy: 100.00%\n",
      "Epoch 14/20, Loss: 0.0592, Accuracy: 100.00%\n",
      "Epoch 15/20, Loss: 0.0418, Accuracy: 100.00%\n",
      "Epoch 16/20, Loss: 0.0369, Accuracy: 100.00%\n",
      "Epoch 17/20, Loss: 0.0349, Accuracy: 100.00%\n",
      "Epoch 18/20, Loss: 0.0290, Accuracy: 100.00%\n",
      "Epoch 19/20, Loss: 0.0264, Accuracy: 100.00%\n",
      "Epoch 20/20, Loss: 0.0231, Accuracy: 100.00%\n",
      "Training complete.\n"
     ]
    }
   ],
   "source": [
    "#모델 학습\n",
    "\n",
    "train_losses = []\n",
    "test_accuracies = []\n",
    "\n",
    "# Training loop\n",
    "num_epochs = 20\n",
    "for epoch in range(num_epochs):\n",
    "    model.train()\n",
    "    running_loss = 0.0\n",
    "    for inputs, labels in train_dataloader:\n",
    "        # Zero the parameter gradients\n",
    "        optimizer.zero_grad()\n",
    "\n",
    "        # Forward pass\n",
    "        outputs = model(inputs)\n",
    "        loss = criterion(outputs, labels)\n",
    "\n",
    "        # Backward pass and optimize\n",
    "        loss.backward()\n",
    "        optimizer.step()\n",
    "\n",
    "        running_loss += loss.item()\n",
    "\n",
    "    # Calculate average loss over an epoch\n",
    "    train_losses.append(running_loss / len(train_dataloader))\n",
    "\n",
    "    # Evaluate on test data\n",
    "    model.eval()\n",
    "    correct = 0\n",
    "    total = 0\n",
    "    with torch.no_grad():\n",
    "        for inputs, labels in test_dataloader:\n",
    "            outputs = model(inputs)\n",
    "            _, predicted = torch.max(outputs.data, 1)\n",
    "            total += labels.size(0)\n",
    "            correct += (predicted == labels).sum().item()\n",
    "\n",
    "    accuracy = 100 * correct / total\n",
    "    test_accuracies.append(accuracy)\n",
    "\n",
    "    print(f\"Epoch {epoch + 1}/{num_epochs}, Loss: {train_losses[-1]:.4f}, Accuracy: {accuracy:.2f}%\")\n",
    "\n",
    "print(\"Training complete.\")"
   ]
  },
  {
   "cell_type": "code",
   "execution_count": 495,
   "id": "3419c93b-30d8-4473-84b5-e2e6264fd550",
   "metadata": {},
   "outputs": [
    {
     "name": "stdout",
     "output_type": "stream",
     "text": [
      "Confusion Matrix:\n",
      "[[31  0  0]\n",
      " [ 0 13  0]\n",
      " [ 0  0 23]]\n",
      "F1 Score: 1.00\n",
      "Precision: 1.00\n",
      "Recall: 1.00\n",
      "Specificity: 1.00\n"
     ]
    }
   ],
   "source": [
    "from sklearn.metrics import confusion_matrix, f1_score, precision_score, recall_score\n",
    "\n",
    "# Evaluation\n",
    "model.eval()\n",
    "all_labels = []\n",
    "all_predictions = []\n",
    "with torch.no_grad():\n",
    "    for inputs, labels in test_dataloader:\n",
    "        outputs = model(inputs)\n",
    "        _, predicted = torch.max(outputs.data, 1)\n",
    "        all_labels.extend(labels.cpu().numpy())\n",
    "        all_predictions.extend(predicted.cpu().numpy())\n",
    "\n",
    "# Convert to numpy arrays\n",
    "all_labels = np.array(all_labels)\n",
    "all_predictions = np.array(all_predictions)\n",
    "\n",
    "# Calculate metrics\n",
    "conf_matrix = confusion_matrix(all_labels, all_predictions)\n",
    "f1 = f1_score(all_labels, all_predictions, average='weighted')\n",
    "precision = precision_score(all_labels, all_predictions, average='weighted')\n",
    "recall = recall_score(all_labels, all_predictions, average='weighted')\n",
    "\n",
    "# Calculate specificity for each class\n",
    "specificity = []\n",
    "for i in range(conf_matrix.shape[0]):\n",
    "    tn = conf_matrix.sum() - (conf_matrix[i, :].sum() + conf_matrix[:, i].sum() - conf_matrix[i, i])\n",
    "    fp = conf_matrix[:, i].sum() - conf_matrix[i, i]\n",
    "    specificity.append(tn / (tn + fp))\n",
    "\n",
    "print(f'Confusion Matrix:\\n{conf_matrix}')\n",
    "print(f'F1 Score: {f1:.2f}')\n",
    "print(f'Precision: {precision:.2f}')\n",
    "print(f'Recall: {recall:.2f}')\n",
    "print(f'Specificity: {np.mean(specificity):.2f}')"
   ]
  },
  {
   "cell_type": "code",
   "execution_count": 497,
   "id": "8bf5cd98-2efd-4373-9a05-dd3714a42493",
   "metadata": {},
   "outputs": [
    {
     "data": {
      "image/png": "[encoded data removed]",
      "text/plain": [
       "<Figure size 1200x500 with 2 Axes>"
      ]
     },
     "metadata": {},
     "output_type": "display_data"
    }
   ],
   "source": [
    "# Plot the loss and accuracy\n",
    "plt.figure(figsize=(12, 5))\n",
    "\n",
    "# Plot loss\n",
    "plt.subplot(1, 2, 1)\n",
    "plt.plot(train_losses, label='Training Loss')\n",
    "plt.xlabel('Epoch')\n",
    "plt.ylabel('Loss')\n",
    "plt.title('Training Loss Over Epochs')\n",
    "plt.legend()\n",
    "\n",
    "# Plot accuracy\n",
    "plt.subplot(1, 2, 2)\n",
    "plt.plot(test_accuracies, label='Test Accuracy')\n",
    "plt.xlabel('Epoch')\n",
    "plt.ylabel('Accuracy (%)')\n",
    "plt.title('Test Accuracy Over Epochs')\n",
    "plt.legend()\n",
    "\n",
    "plt.show()"
   ]
  },
  {
   "cell_type": "code",
   "execution_count": 499,
   "id": "dc246ec9-672b-494d-9103-4ad60d9c7c23",
   "metadata": {},
   "outputs": [],
   "source": [
    "# 데이터와 타겟 분리\n",
    "X = penguins.drop('species', axis=1).values\n",
    "y = penguins['species'].values"
   ]
  },
  {
   "cell_type": "code",
   "execution_count": 501,
   "id": "426896d5-cf1c-4097-80ee-73291fd7f6e7",
   "metadata": {},
   "outputs": [],
   "source": [
    "# Standardize the data\n",
    "scaler = StandardScaler()\n",
    "X = scaler.fit_transform(island_encoded)"
   ]
  },
  {
   "cell_type": "code",
   "execution_count": 503,
   "id": "4c806d65-9d43-4b28-bb72-db07eefdefce",
   "metadata": {},
   "outputs": [],
   "source": [
    "data_array = np.hstack((X, y.reshape(-1, 1)))"
   ]
  },
  {
   "cell_type": "code",
   "execution_count": 505,
   "id": "25f21242-d16d-4349-ae66-625cb184d627",
   "metadata": {},
   "outputs": [
    {
     "data": {
      "text/plain": [
       "(333, 3)"
      ]
     },
     "execution_count": 505,
     "metadata": {},
     "output_type": "execute_result"
    }
   ],
   "source": [
    "data_array.shape"
   ]
  },
  {
   "cell_type": "code",
   "execution_count": 507,
   "id": "1ea462f0-9297-4864-9034-12150766d3f6",
   "metadata": {},
   "outputs": [],
   "source": [
    "# Split sequences function\n",
    "def split_sequences(sequences, n_steps):\n",
    "    X, y = list(), list()\n",
    "    for i in range(len(sequences)):\n",
    "        end_ix = i + n_steps\n",
    "        if end_ix > len(sequences):\n",
    "            break\n",
    "        seq_x, seq_y = sequences[i:end_ix, :-1], sequences[end_ix-1, -1]\n",
    "        X.append(seq_x)\n",
    "        y.append(seq_y)\n",
    "    return np.array(X), np.array(y)\n",
    "\n",
    "# Apply sequence transformation\n",
    "n_steps = 5\n",
    "X, y = split_sequences(data_array, n_steps)\n",
    "\n",
    "# Split the dataset into training and test sets\n",
    "X_train, X_test, y_train, y_test = train_test_split(X, y, test_size=0.2, random_state=0)"
   ]
  },
  {
   "cell_type": "code",
   "execution_count": 509,
   "id": "3a50f930-a65c-44a2-b611-1b80bf25651e",
   "metadata": {},
   "outputs": [
    {
     "data": {
      "text/plain": [
       "((263, 5, 2), (263,), (66, 5, 2), (66,))"
      ]
     },
     "execution_count": 509,
     "metadata": {},
     "output_type": "execute_result"
    }
   ],
   "source": [
    "X_train.shape, y_train.shape, X_test.shape, y_test.shape"
   ]
  },
  {
   "cell_type": "code",
   "execution_count": 511,
   "id": "ed569069-f1ea-40ca-a613-eb301b342c67",
   "metadata": {},
   "outputs": [],
   "source": [
    "X_train, X_test, y_train, y_test = train_test_split(\n",
    "    X_scaled, y_encoded, test_size=0.2, random_state=42)"
   ]
  },
  {
   "cell_type": "code",
   "execution_count": 513,
   "id": "a462fd44-2d2c-47a0-b6b7-0b0914b6b1d3",
   "metadata": {},
   "outputs": [],
   "source": [
    "# Convert to PyTorch tensors\n",
    "X_train = torch.tensor(X_train.astype(np.float32))\n",
    "X_test = torch.tensor(X_test.astype(np.float32))\n",
    "\n",
    "# y는 int로 변환\n",
    "y_train = torch.tensor(np.array(y_train), dtype=torch.int64)\n",
    "y_test = torch.tensor(np.array(y_test), dtype=torch.int64)\n",
    "\n",
    "\n",
    "# Create DataLoader\n",
    "train_dataset = TensorDataset(X_train, y_train)\n",
    "train_dataloader = DataLoader(train_dataset, batch_size=32, shuffle=True)\n",
    "\n",
    "test_dataset = TensorDataset(X_test, y_test)\n",
    "test_dataloader = DataLoader(test_dataset, batch_size=32, shuffle=False)"
   ]
  },
  {
   "cell_type": "code",
   "execution_count": 542,
   "id": "0596412c-f205-4e8a-b964-8b48090a8ea2",
   "metadata": {},
   "outputs": [],
   "source": [
    "# Define the 1D CNN model\n",
    "class SpeciesOutcomeCNN(nn.Module):\n",
    "    def __init__(self):\n",
    "        super(SpeciesOutcomeCNN, self).__init__()\n",
    "        self.conv1 = nn.Conv1d(in_channels=1, out_channels=16, kernel_size=3, padding=1)\n",
    "        self.conv2 = nn.Conv1d(16, 32, kernel_size=3, padding=1)\n",
    "        self.fc1 = nn.Linear(32 * 7, 64)  # 7은 sequence_length\n",
    "        self.fc2 = nn.Linear(64, 3)       # 클래스 수\n",
    "\n",
    "    def forward(self, x):\n",
    "        x = torch.relu(self.conv1(x))\n",
    "        x = torch.relu(self.conv2(x))\n",
    "        x = x.view(x.size(0), -1)\n",
    "        x = torch.relu(self.fc1(x))\n",
    "        x = self.fc2(x)\n",
    "        return x\n"
   ]
  },
  {
   "cell_type": "code",
   "execution_count": 544,
   "id": "45e38d0f-7243-41f3-b08c-a143ce14361e",
   "metadata": {},
   "outputs": [],
   "source": [
    "model = SpeciesOutcomeCNN()"
   ]
  },
  {
   "cell_type": "code",
   "execution_count": 546,
   "id": "ba88cbbd-52a0-40b9-914c-0acc2ff19a3c",
   "metadata": {},
   "outputs": [
    {
     "name": "stdout",
     "output_type": "stream",
     "text": [
      "----------------------------------------------------------------\n",
      "        Layer (type)               Output Shape         Param #\n",
      "================================================================\n",
      "            Conv1d-1                [-1, 16, 7]              64\n",
      "            Conv1d-2                [-1, 32, 7]           1,568\n",
      "            Linear-3                   [-1, 64]          14,400\n",
      "            Linear-4                    [-1, 3]             195\n",
      "================================================================\n",
      "Total params: 16,227\n",
      "Trainable params: 16,227\n",
      "Non-trainable params: 0\n",
      "----------------------------------------------------------------\n",
      "Input size (MB): 0.00\n",
      "Forward/backward pass size (MB): 0.00\n",
      "Params size (MB): 0.06\n",
      "Estimated Total Size (MB): 0.07\n",
      "----------------------------------------------------------------\n"
     ]
    }
   ],
   "source": [
    "from torchsummary import summary\n",
    "summary(model, input_size=(1, 7))"
   ]
  },
  {
   "cell_type": "code",
   "execution_count": 548,
   "id": "61509682-cdbf-4eaf-b972-c1ccfaed6819",
   "metadata": {},
   "outputs": [],
   "source": [
    "criterion = nn.CrossEntropyLoss()\n",
    "optimizer = optim.Adam(model.parameters(), lr=0.001)\n",
    "\n",
    "# Variables to store loss and accuracy\n",
    "train_losses = []\n",
    "test_accuracies = []"
   ]
  },
  {
   "cell_type": "code",
   "execution_count": 584,
   "id": "a2f42139-a397-4fc6-aa4b-f311b9ea01ec",
   "metadata": {},
   "outputs": [
    {
     "name": "stdout",
     "output_type": "stream",
     "text": [
      "Epoch 1/20, Loss: 0.0000, Accuracy: 100.00%\n",
      "Epoch 1/20, Loss: 0.0000, Accuracy: 100.00%\n",
      "Epoch 1/20, Loss: 0.0000, Accuracy: 100.00%\n",
      "Epoch 1/20, Loss: 0.0000, Accuracy: 100.00%\n",
      "Epoch 1/20, Loss: 0.0001, Accuracy: 100.00%\n",
      "Epoch 1/20, Loss: 0.0001, Accuracy: 100.00%\n",
      "Epoch 1/20, Loss: 0.0001, Accuracy: 100.00%\n",
      "Epoch 1/20, Loss: 0.0001, Accuracy: 100.00%\n",
      "Epoch 1/20, Loss: 0.0003, Accuracy: 100.00%\n",
      "Training complete.\n",
      "Epoch 2/20, Loss: 0.0000, Accuracy: 100.00%\n",
      "Epoch 2/20, Loss: 0.0001, Accuracy: 100.00%\n",
      "Epoch 2/20, Loss: 0.0001, Accuracy: 100.00%\n",
      "Epoch 2/20, Loss: 0.0001, Accuracy: 100.00%\n",
      "Epoch 2/20, Loss: 0.0001, Accuracy: 100.00%\n",
      "Epoch 2/20, Loss: 0.0001, Accuracy: 100.00%\n",
      "Epoch 2/20, Loss: 0.0001, Accuracy: 100.00%\n",
      "Epoch 2/20, Loss: 0.0002, Accuracy: 100.00%\n",
      "Epoch 2/20, Loss: 0.0002, Accuracy: 100.00%\n",
      "Training complete.\n",
      "Epoch 3/20, Loss: 0.0000, Accuracy: 100.00%\n",
      "Epoch 3/20, Loss: 0.0000, Accuracy: 100.00%\n",
      "Epoch 3/20, Loss: 0.0000, Accuracy: 100.00%\n",
      "Epoch 3/20, Loss: 0.0001, Accuracy: 100.00%\n",
      "Epoch 3/20, Loss: 0.0001, Accuracy: 100.00%\n",
      "Epoch 3/20, Loss: 0.0001, Accuracy: 100.00%\n",
      "Epoch 3/20, Loss: 0.0002, Accuracy: 100.00%\n",
      "Epoch 3/20, Loss: 0.0002, Accuracy: 100.00%\n",
      "Epoch 3/20, Loss: 0.0002, Accuracy: 100.00%\n",
      "Training complete.\n",
      "Epoch 4/20, Loss: 0.0000, Accuracy: 100.00%\n",
      "Epoch 4/20, Loss: 0.0000, Accuracy: 100.00%\n",
      "Epoch 4/20, Loss: 0.0000, Accuracy: 100.00%\n",
      "Epoch 4/20, Loss: 0.0000, Accuracy: 100.00%\n",
      "Epoch 4/20, Loss: 0.0000, Accuracy: 100.00%\n",
      "Epoch 4/20, Loss: 0.0000, Accuracy: 100.00%\n",
      "Epoch 4/20, Loss: 0.0001, Accuracy: 100.00%\n",
      "Epoch 4/20, Loss: 0.0002, Accuracy: 100.00%\n",
      "Epoch 4/20, Loss: 0.0002, Accuracy: 100.00%\n",
      "Training complete.\n",
      "Epoch 5/20, Loss: 0.0000, Accuracy: 100.00%\n",
      "Epoch 5/20, Loss: 0.0000, Accuracy: 100.00%\n",
      "Epoch 5/20, Loss: 0.0001, Accuracy: 100.00%\n",
      "Epoch 5/20, Loss: 0.0001, Accuracy: 100.00%\n",
      "Epoch 5/20, Loss: 0.0001, Accuracy: 100.00%\n",
      "Epoch 5/20, Loss: 0.0001, Accuracy: 100.00%\n",
      "Epoch 5/20, Loss: 0.0001, Accuracy: 100.00%\n",
      "Epoch 5/20, Loss: 0.0002, Accuracy: 100.00%\n",
      "Epoch 5/20, Loss: 0.0002, Accuracy: 100.00%\n",
      "Training complete.\n",
      "Epoch 6/20, Loss: 0.0000, Accuracy: 100.00%\n",
      "Epoch 6/20, Loss: 0.0000, Accuracy: 100.00%\n",
      "Epoch 6/20, Loss: 0.0001, Accuracy: 100.00%\n",
      "Epoch 6/20, Loss: 0.0001, Accuracy: 100.00%\n",
      "Epoch 6/20, Loss: 0.0002, Accuracy: 100.00%\n",
      "Epoch 6/20, Loss: 0.0002, Accuracy: 100.00%\n",
      "Epoch 6/20, Loss: 0.0002, Accuracy: 100.00%\n",
      "Epoch 6/20, Loss: 0.0002, Accuracy: 100.00%\n",
      "Epoch 6/20, Loss: 0.0002, Accuracy: 100.00%\n",
      "Training complete.\n",
      "Epoch 7/20, Loss: 0.0000, Accuracy: 100.00%\n",
      "Epoch 7/20, Loss: 0.0000, Accuracy: 100.00%\n",
      "Epoch 7/20, Loss: 0.0000, Accuracy: 100.00%\n",
      "Epoch 7/20, Loss: 0.0001, Accuracy: 100.00%\n",
      "Epoch 7/20, Loss: 0.0001, Accuracy: 100.00%\n",
      "Epoch 7/20, Loss: 0.0001, Accuracy: 100.00%\n",
      "Epoch 7/20, Loss: 0.0002, Accuracy: 100.00%\n",
      "Epoch 7/20, Loss: 0.0002, Accuracy: 100.00%\n",
      "Epoch 7/20, Loss: 0.0002, Accuracy: 100.00%\n",
      "Training complete.\n",
      "Epoch 8/20, Loss: 0.0000, Accuracy: 100.00%\n",
      "Epoch 8/20, Loss: 0.0000, Accuracy: 100.00%\n",
      "Epoch 8/20, Loss: 0.0000, Accuracy: 100.00%\n",
      "Epoch 8/20, Loss: 0.0000, Accuracy: 100.00%\n",
      "Epoch 8/20, Loss: 0.0001, Accuracy: 100.00%\n",
      "Epoch 8/20, Loss: 0.0002, Accuracy: 100.00%\n",
      "Epoch 8/20, Loss: 0.0002, Accuracy: 100.00%\n",
      "Epoch 8/20, Loss: 0.0002, Accuracy: 100.00%\n",
      "Epoch 8/20, Loss: 0.0002, Accuracy: 100.00%\n",
      "Training complete.\n",
      "Epoch 9/20, Loss: 0.0000, Accuracy: 100.00%\n",
      "Epoch 9/20, Loss: 0.0000, Accuracy: 100.00%\n",
      "Epoch 9/20, Loss: 0.0001, Accuracy: 100.00%\n",
      "Epoch 9/20, Loss: 0.0001, Accuracy: 100.00%\n",
      "Epoch 9/20, Loss: 0.0001, Accuracy: 100.00%\n",
      "Epoch 9/20, Loss: 0.0001, Accuracy: 100.00%\n",
      "Epoch 9/20, Loss: 0.0001, Accuracy: 100.00%\n",
      "Epoch 9/20, Loss: 0.0001, Accuracy: 100.00%\n",
      "Epoch 9/20, Loss: 0.0002, Accuracy: 100.00%\n",
      "Training complete.\n",
      "Epoch 10/20, Loss: 0.0000, Accuracy: 100.00%\n",
      "Epoch 10/20, Loss: 0.0000, Accuracy: 100.00%\n",
      "Epoch 10/20, Loss: 0.0000, Accuracy: 100.00%\n",
      "Epoch 10/20, Loss: 0.0000, Accuracy: 100.00%\n",
      "Epoch 10/20, Loss: 0.0001, Accuracy: 100.00%\n",
      "Epoch 10/20, Loss: 0.0001, Accuracy: 100.00%\n",
      "Epoch 10/20, Loss: 0.0001, Accuracy: 100.00%\n",
      "Epoch 10/20, Loss: 0.0002, Accuracy: 100.00%\n",
      "Epoch 10/20, Loss: 0.0002, Accuracy: 100.00%\n",
      "Training complete.\n",
      "Epoch 11/20, Loss: 0.0000, Accuracy: 100.00%\n",
      "Epoch 11/20, Loss: 0.0000, Accuracy: 100.00%\n",
      "Epoch 11/20, Loss: 0.0001, Accuracy: 100.00%\n",
      "Epoch 11/20, Loss: 0.0001, Accuracy: 100.00%\n",
      "Epoch 11/20, Loss: 0.0001, Accuracy: 100.00%\n",
      "Epoch 11/20, Loss: 0.0001, Accuracy: 100.00%\n",
      "Epoch 11/20, Loss: 0.0001, Accuracy: 100.00%\n",
      "Epoch 11/20, Loss: 0.0002, Accuracy: 100.00%\n",
      "Epoch 11/20, Loss: 0.0002, Accuracy: 100.00%\n",
      "Training complete.\n",
      "Epoch 12/20, Loss: 0.0000, Accuracy: 100.00%\n",
      "Epoch 12/20, Loss: 0.0000, Accuracy: 100.00%\n",
      "Epoch 12/20, Loss: 0.0001, Accuracy: 100.00%\n",
      "Epoch 12/20, Loss: 0.0001, Accuracy: 100.00%\n",
      "Epoch 12/20, Loss: 0.0001, Accuracy: 100.00%\n",
      "Epoch 12/20, Loss: 0.0001, Accuracy: 100.00%\n",
      "Epoch 12/20, Loss: 0.0001, Accuracy: 100.00%\n",
      "Epoch 12/20, Loss: 0.0002, Accuracy: 100.00%\n",
      "Epoch 12/20, Loss: 0.0002, Accuracy: 100.00%\n",
      "Training complete.\n",
      "Epoch 13/20, Loss: 0.0000, Accuracy: 100.00%\n",
      "Epoch 13/20, Loss: 0.0000, Accuracy: 100.00%\n",
      "Epoch 13/20, Loss: 0.0000, Accuracy: 100.00%\n",
      "Epoch 13/20, Loss: 0.0000, Accuracy: 100.00%\n",
      "Epoch 13/20, Loss: 0.0000, Accuracy: 100.00%\n",
      "Epoch 13/20, Loss: 0.0001, Accuracy: 100.00%\n",
      "Epoch 13/20, Loss: 0.0001, Accuracy: 100.00%\n",
      "Epoch 13/20, Loss: 0.0001, Accuracy: 100.00%\n",
      "Epoch 13/20, Loss: 0.0002, Accuracy: 100.00%\n",
      "Training complete.\n",
      "Epoch 14/20, Loss: 0.0001, Accuracy: 100.00%\n",
      "Epoch 14/20, Loss: 0.0001, Accuracy: 100.00%\n",
      "Epoch 14/20, Loss: 0.0001, Accuracy: 100.00%\n",
      "Epoch 14/20, Loss: 0.0001, Accuracy: 100.00%\n",
      "Epoch 14/20, Loss: 0.0001, Accuracy: 100.00%\n",
      "Epoch 14/20, Loss: 0.0001, Accuracy: 100.00%\n",
      "Epoch 14/20, Loss: 0.0001, Accuracy: 100.00%\n",
      "Epoch 14/20, Loss: 0.0001, Accuracy: 100.00%\n",
      "Epoch 14/20, Loss: 0.0002, Accuracy: 100.00%\n",
      "Training complete.\n",
      "Epoch 15/20, Loss: 0.0000, Accuracy: 100.00%\n",
      "Epoch 15/20, Loss: 0.0000, Accuracy: 100.00%\n",
      "Epoch 15/20, Loss: 0.0000, Accuracy: 100.00%\n",
      "Epoch 15/20, Loss: 0.0000, Accuracy: 100.00%\n",
      "Epoch 15/20, Loss: 0.0001, Accuracy: 100.00%\n",
      "Epoch 15/20, Loss: 0.0001, Accuracy: 100.00%\n",
      "Epoch 15/20, Loss: 0.0001, Accuracy: 100.00%\n",
      "Epoch 15/20, Loss: 0.0001, Accuracy: 100.00%\n",
      "Epoch 15/20, Loss: 0.0001, Accuracy: 100.00%\n",
      "Training complete.\n",
      "Epoch 16/20, Loss: 0.0001, Accuracy: 100.00%\n",
      "Epoch 16/20, Loss: 0.0001, Accuracy: 100.00%\n",
      "Epoch 16/20, Loss: 0.0001, Accuracy: 100.00%\n",
      "Epoch 16/20, Loss: 0.0001, Accuracy: 100.00%\n",
      "Epoch 16/20, Loss: 0.0001, Accuracy: 100.00%\n",
      "Epoch 16/20, Loss: 0.0001, Accuracy: 100.00%\n",
      "Epoch 16/20, Loss: 0.0001, Accuracy: 100.00%\n",
      "Epoch 16/20, Loss: 0.0001, Accuracy: 100.00%\n",
      "Epoch 16/20, Loss: 0.0001, Accuracy: 100.00%\n",
      "Training complete.\n",
      "Epoch 17/20, Loss: 0.0000, Accuracy: 100.00%\n",
      "Epoch 17/20, Loss: 0.0000, Accuracy: 100.00%\n",
      "Epoch 17/20, Loss: 0.0001, Accuracy: 100.00%\n",
      "Epoch 17/20, Loss: 0.0001, Accuracy: 100.00%\n",
      "Epoch 17/20, Loss: 0.0001, Accuracy: 100.00%\n",
      "Epoch 17/20, Loss: 0.0001, Accuracy: 100.00%\n",
      "Epoch 17/20, Loss: 0.0001, Accuracy: 100.00%\n",
      "Epoch 17/20, Loss: 0.0001, Accuracy: 100.00%\n",
      "Epoch 17/20, Loss: 0.0001, Accuracy: 100.00%\n",
      "Training complete.\n",
      "Epoch 18/20, Loss: 0.0000, Accuracy: 100.00%\n",
      "Epoch 18/20, Loss: 0.0000, Accuracy: 100.00%\n",
      "Epoch 18/20, Loss: 0.0000, Accuracy: 100.00%\n",
      "Epoch 18/20, Loss: 0.0001, Accuracy: 100.00%\n",
      "Epoch 18/20, Loss: 0.0001, Accuracy: 100.00%\n",
      "Epoch 18/20, Loss: 0.0001, Accuracy: 100.00%\n",
      "Epoch 18/20, Loss: 0.0001, Accuracy: 100.00%\n",
      "Epoch 18/20, Loss: 0.0001, Accuracy: 100.00%\n",
      "Epoch 18/20, Loss: 0.0001, Accuracy: 100.00%\n",
      "Training complete.\n",
      "Epoch 19/20, Loss: 0.0000, Accuracy: 100.00%\n",
      "Epoch 19/20, Loss: 0.0000, Accuracy: 100.00%\n",
      "Epoch 19/20, Loss: 0.0000, Accuracy: 100.00%\n",
      "Epoch 19/20, Loss: 0.0000, Accuracy: 100.00%\n",
      "Epoch 19/20, Loss: 0.0000, Accuracy: 100.00%\n",
      "Epoch 19/20, Loss: 0.0001, Accuracy: 100.00%\n",
      "Epoch 19/20, Loss: 0.0001, Accuracy: 100.00%\n",
      "Epoch 19/20, Loss: 0.0001, Accuracy: 100.00%\n",
      "Epoch 19/20, Loss: 0.0002, Accuracy: 100.00%\n",
      "Training complete.\n",
      "Epoch 20/20, Loss: 0.0000, Accuracy: 100.00%\n",
      "Epoch 20/20, Loss: 0.0000, Accuracy: 100.00%\n",
      "Epoch 20/20, Loss: 0.0000, Accuracy: 100.00%\n",
      "Epoch 20/20, Loss: 0.0000, Accuracy: 100.00%\n",
      "Epoch 20/20, Loss: 0.0001, Accuracy: 100.00%\n",
      "Epoch 20/20, Loss: 0.0001, Accuracy: 100.00%\n",
      "Epoch 20/20, Loss: 0.0001, Accuracy: 100.00%\n",
      "Epoch 20/20, Loss: 0.0001, Accuracy: 100.00%\n",
      "Epoch 20/20, Loss: 0.0001, Accuracy: 100.00%\n",
      "Training complete.\n"
     ]
    }
   ],
   "source": [
    "# Training loop\n",
    "num_epochs = 20\n",
    "for epoch in range(num_epochs):\n",
    "    model.train()\n",
    "    running_loss = 0.0\n",
    "    for inputs, labels in train_dataloader:\n",
    "        # Zero the parameter gradients\n",
    "        optimizer.zero_grad()\n",
    "\n",
    "        # Forward pass\n",
    "        inputs = inputs.unsqueeze(1)\n",
    "        outputs = model(inputs)\n",
    "        loss = criterion(outputs, labels)\n",
    "\n",
    "        # Backward pass and optimize\n",
    "        loss.backward()\n",
    "        optimizer.step()\n",
    "\n",
    "        running_loss += loss.item()\n",
    "        # Calculate average loss over an epoch\n",
    "        train_losses.append(running_loss / len(train_dataloader))\n",
    "\n",
    "# Evaluate on test data\n",
    "        model.eval()\n",
    "        correct = 0\n",
    "        total = 0\n",
    "        all_labels = []\n",
    "        all_predictions = []\n",
    "        with torch.no_grad():\n",
    "            for inputs, labels in test_dataloader:\n",
    "                inputs = inputs.unsqueeze(1)\n",
    "                outputs = model(inputs)\n",
    "                _, predicted = torch.max(outputs.data, 1)\n",
    "                total += labels.size(0)\n",
    "                correct += (predicted == labels).sum().item()\n",
    "                all_labels.extend(labels.cpu().numpy())\n",
    "                all_predictions.extend(predicted.cpu().numpy())\n",
    "\n",
    "        accuracy = 100 * correct / total\n",
    "        test_accuracies.append(accuracy)\n",
    "        print(f\"Epoch {epoch + 1}/{num_epochs}, Loss: {train_losses[-1]:.4f}, Accuracy: {accuracy:.2f}%\")\n",
    "\n",
    "    print(\"Training complete.\")\n",
    "    "
   ]
  },
  {
   "cell_type": "code",
   "execution_count": 586,
   "id": "d6fe6167-de03-495c-ad32-4673710c185f",
   "metadata": {},
   "outputs": [],
   "source": [
    "# Convert lists to numpy arrays\n",
    "all_labels = np.array(all_labels)\n",
    "all_predictions = np.array(all_predictions)"
   ]
  },
  {
   "cell_type": "code",
   "execution_count": 588,
   "id": "7d4fc649-98e5-4139-81de-0be96e4c3954",
   "metadata": {},
   "outputs": [],
   "source": [
    "# Calculate metrics\n",
    "conf_matrix = confusion_matrix(all_labels, all_predictions)\n",
    "f1 = f1_score(all_labels, all_predictions, average='weighted')\n",
    "precision = precision_score(all_labels, all_predictions, average='weighted')\n",
    "recall = recall_score(all_labels, all_predictions, average='weighted')"
   ]
  },
  {
   "cell_type": "code",
   "execution_count": 590,
   "id": "b17832c4-339f-498b-b4a9-d00deea5508f",
   "metadata": {},
   "outputs": [],
   "source": [
    "# Calculate specificity for each class\n",
    "specificity = []\n",
    "for i in range(conf_matrix.shape[0]):\n",
    "    tn = conf_matrix.sum() - (conf_matrix[i, :].sum() + conf_matrix[:, i].sum() - conf_matrix[i, i])\n",
    "    fp = conf_matrix[:, i].sum() - conf_matrix[i, i]\n",
    "    specificity.append(tn / (tn + fp))"
   ]
  },
  {
   "cell_type": "code",
   "execution_count": 592,
   "id": "b00c42ee-7e27-4b8e-8234-be1fef5f11aa",
   "metadata": {},
   "outputs": [
    {
     "name": "stdout",
     "output_type": "stream",
     "text": [
      "Confusion Matrix:\n",
      "[[31  0  0]\n",
      " [ 0 13  0]\n",
      " [ 0  0 23]]\n",
      "F1 Score: 1.00\n",
      "Precision: 1.00\n",
      "Recall: 1.00\n",
      "Specificity: 1.00\n"
     ]
    }
   ],
   "source": [
    "# Print metrics\n",
    "print(f'Confusion Matrix:\\n{conf_matrix}')\n",
    "print(f'F1 Score: {f1:.2f}')\n",
    "print(f'Precision: {precision:.2f}')\n",
    "print(f'Recall: {recall:.2f}')\n",
    "print(f'Specificity: {np.mean(specificity):.2f}')"
   ]
  },
  {
   "cell_type": "code",
   "execution_count": 594,
   "id": "a6150f1c-7721-4a47-9ebd-4b35b2e41561",
   "metadata": {},
   "outputs": [
    {
     "data": {
      "image/png": "[encoded data removed]",
      "text/plain": [
       "<Figure size 1200x500 with 2 Axes>"
      ]
     },
     "metadata": {},
     "output_type": "display_data"
    }
   ],
   "source": [
    "# Plot the loss and accuracy\n",
    "plt.figure(figsize=(12, 5))\n",
    "\n",
    "# Plot loss\n",
    "plt.subplot(1, 2, 1)\n",
    "plt.plot(train_losses, label='Training Loss')\n",
    "plt.xlabel('Epoch')\n",
    "plt.ylabel('Loss')\n",
    "plt.title('Training Loss Over Epochs')\n",
    "plt.legend()\n",
    "\n",
    "# Plot accuracy\n",
    "plt.subplot(1, 2, 2)\n",
    "plt.plot(test_accuracies, label='Test Accuracy')\n",
    "plt.xlabel('Epoch')\n",
    "plt.ylabel('Accuracy (%)')\n",
    "plt.title('Test Accuracy Over Epochs')\n",
    "plt.legend()\n",
    "\n",
    "plt.show()"
   ]
  }
 ],
 "metadata": {
  "kernelspec": {
   "display_name": "Python 3 (ipykernel)",
   "language": "python",
   "name": "python3"
  },
  "language_info": {
   "codemirror_mode": {
    "name": "ipython",
    "version": 3
   },
   "file_extension": ".py",
   "mimetype": "text/x-python",
   "name": "python",
   "nbconvert_exporter": "python",
   "pygments_lexer": "ipython3",
   "version": "3.12.7"
  }
 },
 "nbformat": 4,
 "nbformat_minor": 5
}
