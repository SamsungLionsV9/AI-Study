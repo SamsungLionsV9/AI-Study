{
 "cells": [
  {
   "cell_type": "code",
   "execution_count": 69,
   "id": "d772fa49-d73d-44df-91e4-502afa7c1ade",
   "metadata": {},
   "outputs": [],
   "source": [
    "import torch\n",
    "import torch.nn as nn\n",
    "import torch.optim as optim\n",
    "from torch.utils.data import DataLoader\n",
    "from torchvision import datasets, transforms"
   ]
  },
  {
   "cell_type": "code",
   "execution_count": 71,
   "id": "0b11304f-12c7-4be8-b85e-c4415ff88edf",
   "metadata": {},
   "outputs": [],
   "source": [
    "device = torch.device(\"cuda\" if torch.cuda.is_available() else \"cpu\")"
   ]
  },
  {
   "cell_type": "code",
   "execution_count": 73,
   "id": "585eb118-7170-4601-8b38-e70dc4391f78",
   "metadata": {},
   "outputs": [],
   "source": [
    "# 이미지 텐서로 변환\n",
    "transform = transforms.ToTensor()"
   ]
  },
  {
   "cell_type": "code",
   "execution_count": 75,
   "id": "8426441c-7edb-4f69-bd70-aad42b28758f",
   "metadata": {},
   "outputs": [],
   "source": [
    "train_data = datasets.MNIST(root=\"./data\", train=True, download=True, transform=transform)\n",
    "test_data = datasets.MNIST(root=\"./data\", train=False, download=True, transform=transform)"
   ]
  },
  {
   "cell_type": "code",
   "execution_count": 77,
   "id": "4c38e681-3fe2-49e2-aa04-a8d7014b3ca1",
   "metadata": {},
   "outputs": [],
   "source": [
    "# MNIST 데이터셋 로딩\n",
    "train_dataset = datasets.MNIST(root='./data', train=True, download=True, transform=transform)\n",
    "test_dataset = datasets.MNIST(root='./data', train=False, download=True, transform=transform)"
   ]
  },
  {
   "cell_type": "code",
   "execution_count": 79,
   "id": "273ceb10-2ef8-4c48-84d1-9548af86b1bf",
   "metadata": {},
   "outputs": [],
   "source": [
    "# 배치 단위 데이터 로더 구성\n",
    "train_loader = DataLoader(train_dataset, batch_size=64, shuffle=True)\n",
    "test_loader = DataLoader(test_dataset, batch_size=64, shuffle=False)"
   ]
  },
  {
   "cell_type": "code",
   "execution_count": 81,
   "id": "71988cc6-02f4-46e8-a72a-84d7d68b853c",
   "metadata": {},
   "outputs": [],
   "source": [
    "# 이미지를 텐서로 변환\n",
    "transform = transforms.ToTensor()\n",
    "\n",
    "# MNIST 데이터셋 다운로드 & 로드\n",
    "train_dataset = datasets.MNIST(root='./data', train=True, download=True, transform=transform)\n",
    "test_dataset = datasets.MNIST(root='./data', train=False, download=True, transform=transform)\n",
    "\n",
    "# DataLoader로 배치 구성\n",
    "train_loader = DataLoader(train_dataset, batch_size=64, shuffle=True)\n",
    "test_loader = DataLoader(test_dataset, batch_size=64, shuffle=False)"
   ]
  },
  {
   "cell_type": "code",
   "execution_count": 83,
   "id": "a5e35fc9-a4a6-4870-a1e1-7f18f1d32484",
   "metadata": {},
   "outputs": [],
   "source": [
    "# 1. 모델 정의\n",
    "class DNN(nn.Module):\n",
    "    def __init__(self):\n",
    "        super(DNN, self).__init__()\n",
    "        self.model = nn.Sequential(\n",
    "            nn.Flatten(),                 \n",
    "            nn.Linear(784, 128),         \n",
    "            nn.ReLU(),\n",
    "            nn.Linear(128, 64),          \n",
    "            nn.ReLU(),\n",
    "            nn.Linear(64, 10)            \n",
    "        )\n",
    "\n",
    "    def forward(self, x):\n",
    "        return self.model(x)"
   ]
  },
  {
   "cell_type": "code",
   "execution_count": 85,
   "id": "9962f4b9-ca54-4080-b4e2-ba4a3490d0bc",
   "metadata": {},
   "outputs": [],
   "source": [
    "# 2. 모델 객체 생성\n",
    "model = DNN().to(device)"
   ]
  },
  {
   "cell_type": "code",
   "execution_count": 87,
   "id": "f9dc181b-7373-4be1-84ec-f020c757bc6f",
   "metadata": {},
   "outputs": [],
   "source": [
    "# 3. 손실 함수 및 옵티마이저 설정\n",
    "criterion = nn.CrossEntropyLoss()\n",
    "optimizer = optim.Adam(model.parameters(), lr=0.001)"
   ]
  },
  {
   "cell_type": "code",
   "execution_count": 89,
   "id": "f04080e6-d233-4301-82a4-da0e626c788a",
   "metadata": {},
   "outputs": [
    {
     "name": "stdout",
     "output_type": "stream",
     "text": [
      "Epoch 1/5 - Loss: 0.3399\n",
      "Epoch 2/5 - Loss: 0.1365\n",
      "Epoch 3/5 - Loss: 0.0937\n",
      "Epoch 4/5 - Loss: 0.0709\n",
      "Epoch 5/5 - Loss: 0.0561\n"
     ]
    }
   ],
   "source": [
    "# 4. 학습 루프\n",
    "epochs = 5\n",
    "for epoch in range(epochs):\n",
    "    model.train()\n",
    "    running_loss = 0.0\n",
    "    for images, labels in train_loader:\n",
    "        images, labels = images.to(device), labels.to(device)\n",
    "    \n",
    "        # 기울기 초기화\n",
    "        optimizer.zero_grad()\n",
    "        # 순전파\n",
    "        outputs = model(images)\n",
    "        # 손실 계산\n",
    "        loss = criterion(outputs, labels)\n",
    "        # 역전파\n",
    "        loss.backward()\n",
    "        # 가중치 업데이트\n",
    "        optimizer.step()\n",
    "\n",
    "        running_loss += loss.item()\n",
    "    \n",
    "    avg_loss = running_loss / len(train_loader)\n",
    "    print(f\"Epoch {epoch+1}/{epochs} - Loss: {avg_loss:.4f}\")"
   ]
  },
  {
   "cell_type": "code",
   "execution_count": 90,
   "id": "32e3ebe0-3fc6-4193-a013-6ba05d09adc4",
   "metadata": {},
   "outputs": [
    {
     "name": "stdout",
     "output_type": "stream",
     "text": [
      "\n",
      " Test Accuracy: 97.35%\n"
     ]
    }
   ],
   "source": [
    "# 5. 테스트 정확도 평가\n",
    "model.eval()\n",
    "correct = 0\n",
    "total = 0\n",
    "\n",
    "with torch.no_grad():\n",
    "    for images, labels in test_loader:\n",
    "        images, labels = images.to(device), labels.to(device)\n",
    "        outputs = model(images)\n",
    "        _, predicted = torch.max(outputs.data, 1)\n",
    "        total += labels.size(0)\n",
    "        correct += (predicted == labels).sum().item()\n",
    "\n",
    "accuracy = 100 * correct / total\n",
    "print(f\"\\n Test Accuracy: {accuracy:.2f}%\")"
   ]
  }
 ],
 "metadata": {
  "kernelspec": {
   "display_name": "Python 3 (ipykernel)",
   "language": "python",
   "name": "python3"
  },
  "language_info": {
   "codemirror_mode": {
    "name": "ipython",
    "version": 3
   },
   "file_extension": ".py",
   "mimetype": "text/x-python",
   "name": "python",
   "nbconvert_exporter": "python",
   "pygments_lexer": "ipython3",
   "version": "3.12.7"
  }
 },
 "nbformat": 4,
 "nbformat_minor": 5
}
