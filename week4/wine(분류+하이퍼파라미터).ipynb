{
 "cells": [
  {
   "cell_type": "code",
   "execution_count": 3,
   "id": "2714406c-0269-42a8-a9b5-bdb1701c87f7",
   "metadata": {},
   "outputs": [],
   "source": [
    "#데이터 로드\n",
    "import pandas as pd\n",
    "import seaborn as sns\n",
    "from sklearn.preprocessing import LabelEncoder\n",
    "from sklearn.metrics import accuracy_score\n",
    "from sklearn.model_selection import GridSearchCV\n",
    "from sklearn.metrics import confusion_matrix, ConfusionMatrixDisplay\n",
    "import matplotlib.pyplot as plt\n",
    "\n",
    "\n",
    "file_path = \"./wine.csv\"\n",
    "df = pd.read_csv(file_path)"
   ]
  },
  {
   "cell_type": "code",
   "execution_count": 4,
   "id": "16fb49a1-b440-4975-8b44-4c161af0278a",
   "metadata": {},
   "outputs": [
    {
     "name": "stdout",
     "output_type": "stream",
     "text": [
      "Wine                    0\n",
      "Alcohol                 0\n",
      "Malic.acid              0\n",
      "Ash                     0\n",
      "Acl                     0\n",
      "Mg                      0\n",
      "Phenols                 0\n",
      "Flavanoids              0\n",
      "Nonflavanoid.phenols    0\n",
      "Proanth                 0\n",
      "Color.int               0\n",
      "Hue                     0\n",
      "OD                      0\n",
      "Proline                 0\n",
      "dtype: int64\n"
     ]
    }
   ],
   "source": [
    "#결측치 확인\n",
    "missing_values = df.isnull().sum()\n",
    "print(missing_values)"
   ]
  },
  {
   "cell_type": "code",
   "execution_count": 5,
   "id": "04635b81-27b8-4feb-9133-7374db60be7a",
   "metadata": {},
   "outputs": [],
   "source": [
    "import numpy as np\n",
    "from sklearn.model_selection import train_test_split\n",
    "import matplotlib.pyplot as plt\n",
    "import seaborn as sns"
   ]
  },
  {
   "cell_type": "code",
   "execution_count": 6,
   "id": "f7538538-7202-4786-bad3-a92c8ca967cd",
   "metadata": {},
   "outputs": [],
   "source": [
    "# 특성(X)과 타겟(y) 데이터 정의\n",
    "X = df.drop(columns=['Wine'], axis = 1) \n",
    "y = df['Wine']  "
   ]
  },
  {
   "cell_type": "code",
   "execution_count": 7,
   "id": "756134e8-e181-49d8-9960-c2790788adf6",
   "metadata": {},
   "outputs": [],
   "source": [
    "X_train, X_test, y_train, y_test = train_test_split(X, y, test_size=0.2, random_state=42)"
   ]
  },
  {
   "cell_type": "code",
   "execution_count": 13,
   "id": "7db97f10-ebfe-4c72-af9e-58ca63b82889",
   "metadata": {},
   "outputs": [],
   "source": [
    "from sklearn.preprocessing import StandardScaler\n",
    "\n",
    "# 데이터 스케일링\n",
    "scaler = StandardScaler()\n",
    "X_train_scaled = pd.DataFrame(scaler.fit_transform(X_train), columns=X_train.columns)\n",
    "X_test_scaled = pd.DataFrame(scaler.transform(X_test), columns=X_train.columns)"
   ]
  },
  {
   "cell_type": "code",
   "execution_count": 15,
   "id": "7b79b73b-71ee-4a68-b7e4-32c04149bd73",
   "metadata": {},
   "outputs": [
    {
     "name": "stdout",
     "output_type": "stream",
     "text": [
      "Accuracy: 1.0000\n"
     ]
    }
   ],
   "source": [
    "from sklearn.ensemble import RandomForestClassifier\n",
    "\n",
    "\n",
    "# 모델 학습\n",
    "model = RandomForestClassifier(max_depth=5, random_state=42)\n",
    "model.fit(X_train_scaled, y_train)\n",
    "\n",
    "# 예측\n",
    "y_pred = model.predict(X_test_scaled)\n",
    "\n",
    "# 정확도 평가\n",
    "accuracy = accuracy_score(y_test, y_pred)\n",
    "print(f\"Accuracy: {accuracy:.4f}\")"
   ]
  },
  {
   "cell_type": "code",
   "execution_count": 17,
   "id": "70bd74f6-f869-4161-a016-1b0ec556a931",
   "metadata": {},
   "outputs": [
    {
     "name": "stdout",
     "output_type": "stream",
     "text": [
      "최적 하이퍼파라미터: {'max_depth': 5, 'min_samples_split': 2, 'n_estimators': 100}\n",
      "최고 정확도: 0.9785714285714286\n",
      "튜닝 후 정확도: 1.0\n"
     ]
    }
   ],
   "source": [
    "#하이퍼파라미터 튜닝\n",
    "param_grid = {'n_estimators': [100, 200, 300, 400, 500], 'max_depth': [5, 10, 15, 20],'min_samples_split': [2, 5, 10]}\n",
    "grid_search = GridSearchCV(model, param_grid, cv=5, scoring=\"accuracy\")\n",
    "grid_search.fit(X_train_scaled, y_train)\n",
    "\n",
    "print(\"최적 하이퍼파라미터:\", grid_search.best_params_)\n",
    "print(\"최고 정확도:\", grid_search.best_score_)\n",
    "tuned_model = grid_search.best_estimator_\n",
    "print(\"튜닝 후 정확도:\", accuracy_score(y_test, tuned_model.predict(X_test_scaled)))"
   ]
  },
  {
   "cell_type": "code",
   "execution_count": 29,
   "id": "81245edd-6e73-450a-aebc-dc80617bfa80",
   "metadata": {},
   "outputs": [
    {
     "name": "stdout",
     "output_type": "stream",
     "text": [
      "Confusion Matrix (Basic):\n",
      "[[13  1  0]\n",
      " [ 0 14  0]\n",
      " [ 1  0  7]]\n",
      "Confusion Matrix (Tuned):\n",
      "[[14  0  0]\n",
      " [ 0 14  0]\n",
      " [ 0  0  8]]\n"
     ]
    },
    {
     "data": {
      "image/png": "[encoded data removed]",
      "text/plain": [
       "<Figure size 1200x500 with 2 Axes>"
      ]
     },
     "metadata": {},
     "output_type": "display_data"
    }
   ],
   "source": [
    "#혼동 행렬 출력\n",
    "conf_matrix = confusion_matrix(y_test, y_pred)\n",
    "print(\"Confusion Matrix (Basic):\")\n",
    "print(conf_matrix)\n",
    "\n",
    "y_pred_tuned = tuned_model.predict(X_test_scaled)\n",
    "conf_matrix_tuned = confusion_matrix(y_test, y_pred_tuned)\n",
    "print(\"Confusion Matrix (Tuned):\")\n",
    "print(conf_matrix_tuned)\n",
    "\n",
    "fig, axes = plt.subplots(1, 2, figsize=(12, 5))\n",
    "\n",
    "disp1 = ConfusionMatrixDisplay(confusion_matrix=conf_matrix)\n",
    "disp1.plot(ax=axes[0], cmap='Blues', colorbar=False)\n",
    "axes[0].set_title(\"Confusion Matrix (Basic)\")\n",
    "\n",
    "disp2 = ConfusionMatrixDisplay(confusion_matrix=conf_matrix_tuned)\n",
    "disp2.plot(ax=axes[1], cmap='Greens', colorbar=False)\n",
    "axes[1].set_title(\"Confusion Matrix (Tuned)\")\n",
    "\n",
    "plt.tight_layout()\n",
    "plt.show()"
   ]
  },
  {
   "cell_type": "code",
   "execution_count": 19,
   "id": "e2172810-f806-4a99-8de7-7c4a5656904a",
   "metadata": {},
   "outputs": [
    {
     "name": "stdout",
     "output_type": "stream",
     "text": [
      "Accuracy: 0.9444\n"
     ]
    }
   ],
   "source": [
    "from sklearn.preprocessing import StandardScaler\n",
    "from sklearn.tree import DecisionTreeClassifier\n",
    "\n",
    "\n",
    "model = DecisionTreeClassifier(max_depth = 3, random_state=42)\n",
    "\n",
    "# 모델 학습\n",
    "model = DecisionTreeClassifier(max_depth=5, random_state=42)\n",
    "model.fit(X_train_scaled, y_train)\n",
    "\n",
    "# 예측\n",
    "y_pred = model.predict(X_test_scaled)\n",
    "\n",
    "# 정확도 평가\n",
    "accuracy = accuracy_score(y_test, y_pred)\n",
    "print(f\"Accuracy: {accuracy:.4f}\")      "
   ]
  },
  {
   "cell_type": "code",
   "execution_count": 20,
   "id": "437a07cd-b7b4-4a29-83d1-245751523845",
   "metadata": {},
   "outputs": [
    {
     "name": "stdout",
     "output_type": "stream",
     "text": [
      "최적 하이퍼파라미터: {'max_depth': 8, 'min_samples_split': 6}\n",
      "최고 정확도: 0.9224137931034484\n",
      "튜닝 후 정확도: 1.0\n"
     ]
    }
   ],
   "source": [
    "#하이퍼파라미터 튜닝\n",
    "from sklearn.model_selection import RandomizedSearchCV\n",
    "from scipy.stats import randint\n",
    "\n",
    "param_dist = {'max_depth': randint(3, 10), 'min_samples_split': randint(2, 10)}\n",
    "\n",
    "random_search = RandomizedSearchCV(model, param_dist, n_iter=10, cv=5, scoring=\"accuracy\")\n",
    "random_search.fit(X_train_scaled, y_train)\n",
    "\n",
    "print(\"최적 하이퍼파라미터:\", random_search.best_params_)\n",
    "print(\"최고 정확도:\", random_search.best_score_)\n",
    "tuned_model = grid_search.best_estimator_\n",
    "print(\"튜닝 후 정확도:\", accuracy_score(y_test, tuned_model.predict(X_test_scaled)))"
   ]
  },
  {
   "cell_type": "code",
   "execution_count": 35,
   "id": "36a4df0c-a557-4cc9-ac97-b94c63867676",
   "metadata": {},
   "outputs": [
    {
     "name": "stdout",
     "output_type": "stream",
     "text": [
      "Confusion Matrix (basic):\n",
      "[[13  1  0]\n",
      " [ 0 14  0]\n",
      " [ 1  0  7]]\n",
      "Confusion Matrix (tuned):\n",
      "[[14  0  0]\n",
      " [ 0 14  0]\n",
      " [ 0  0  8]]\n"
     ]
    },
    {
     "data": {
      "image/png": "[encoded data removed]",
      "text/plain": [
       "<Figure size 1200x500 with 2 Axes>"
      ]
     },
     "metadata": {},
     "output_type": "display_data"
    }
   ],
   "source": [
    "# 혼동 행렬 계산\n",
    "conf_matrix_basic = confusion_matrix(y_test, y_pred)\n",
    "conf_matrix_tuned = confusion_matrix(y_test, y_pred_tuned)\n",
    "\n",
    "print(\"Confusion Matrix (basic):\")\n",
    "print(conf_matrix_basic)\n",
    "print(\"Confusion Matrix (tuned):\")\n",
    "print(conf_matrix_tuned)\n",
    "\n",
    "fig, axes = plt.subplots(1, 2, figsize=(12, 5))\n",
    "\n",
    "disp1 = ConfusionMatrixDisplay(confusion_matrix=conf_matrix_basic)\n",
    "disp1.plot(ax=axes[0], cmap='Blues', colorbar=False)\n",
    "axes[0].set_title(\"Confusion Matrix (Basic)\")\n",
    "\n",
    "disp2 = ConfusionMatrixDisplay(confusion_matrix=conf_matrix_tuned)\n",
    "disp2.plot(ax=axes[1], cmap='Greens', colorbar=False)\n",
    "axes[1].set_title(\"Confusion Matrix (Tuned)\")\n",
    "\n",
    "plt.tight_layout()\n",
    "plt.show()"
   ]
  },
  {
   "cell_type": "code",
   "execution_count": 160,
   "id": "0d8bd8a0-a4c6-4e7f-836c-63fdd038d744",
   "metadata": {},
   "outputs": [
    {
     "name": "stdout",
     "output_type": "stream",
     "text": [
      "Accuracy: 1.0000\n"
     ]
    }
   ],
   "source": [
    "from sklearn.svm import SVC\n",
    "\n",
    "# SVC 모델 학습\n",
    "model = SVC(random_state=42)\n",
    "model.fit(X_train_scaled, y_train)\n",
    "\n",
    "# 예측\n",
    "y_pred = model.predict(X_test_scaled)\n",
    "\n",
    "# 정확도 평가\n",
    "accuracy = accuracy_score(y_test, y_pred)\n",
    "print(f\"Accuracy: {accuracy:.4f}\")      "
   ]
  },
  {
   "cell_type": "code",
   "execution_count": 161,
   "id": "f68bba86-d3f1-4b35-b680-d30effb37697",
   "metadata": {},
   "outputs": [
    {
     "name": "stdout",
     "output_type": "stream",
     "text": [
      "최적 하이퍼파라미터: {'C': 0.01, 'gamma': 'scale', 'kernel': 'linear'}\n",
      "최고 정확도: 0.9857142857142858\n",
      "튜닝 후 정확도: 1.0\n"
     ]
    }
   ],
   "source": [
    "#하이퍼파라미터 튜닝\n",
    "param_grid = {'C': [0.001, 0.01, 0.1, 1, 10], 'kernel': ['linear', 'rbf', 'poly'], 'gamma': ['scale', 'auto']}\n",
    "grid_search = GridSearchCV(model, param_grid, cv=5, scoring=\"accuracy\")\n",
    "grid_search.fit(X_train_scaled, y_train)\n",
    "\n",
    "print(\"최적 하이퍼파라미터:\", grid_search.best_params_)\n",
    "print(\"최고 정확도:\", grid_search.best_score_)\n",
    "tuned_model = grid_search.best_estimator_\n",
    "print(\"튜닝 후 정확도:\", accuracy_score(y_test, tuned_model.predict(X_test_scaled)))"
   ]
  },
  {
   "cell_type": "code",
   "execution_count": 37,
   "id": "182ddc0c-a899-4301-af0b-77bb7ead3006",
   "metadata": {},
   "outputs": [
    {
     "name": "stdout",
     "output_type": "stream",
     "text": [
      "Confusion Matrix (basic):\n",
      "[[13  1  0]\n",
      " [ 0 14  0]\n",
      " [ 1  0  7]]\n",
      "Confusion Matrix (tuned):\n",
      "[[14  0  0]\n",
      " [ 0 14  0]\n",
      " [ 0  0  8]]\n"
     ]
    },
    {
     "data": {
      "image/png": "[encoded data removed]",
      "text/plain": [
       "<Figure size 1200x500 with 2 Axes>"
      ]
     },
     "metadata": {},
     "output_type": "display_data"
    }
   ],
   "source": [
    "# 혼동 행렬 계산\n",
    "conf_matrix = confusion_matrix(y_test, y_pred)\n",
    "y_pred_tuned = tuned_model.predict(X_test_scaled)\n",
    "conf_matrix_tuned = confusion_matrix(y_test, y_pred_tuned)\n",
    "\n",
    "print(\"Confusion Matrix (basic):\")\n",
    "print(conf_matrix)\n",
    "print(\"Confusion Matrix (tuned):\")\n",
    "print(conf_matrix_tuned)\n",
    "\n",
    "fig, axes = plt.subplots(1, 2, figsize=(12, 5))\n",
    "\n",
    "disp1 = ConfusionMatrixDisplay(confusion_matrix=conf_matrix)\n",
    "disp1.plot(ax=axes[0], cmap='Blues', colorbar=False)\n",
    "axes[0].set_title(\"Confusion Matrix (Basic)\")\n",
    "\n",
    "disp2 = ConfusionMatrixDisplay(confusion_matrix=conf_matrix_tuned)\n",
    "disp2.plot(ax=axes[1], cmap='Greens', colorbar=False)\n",
    "axes[1].set_title(\"Confusion Matrix (Tuned)\")\n",
    "\n",
    "plt.tight_layout()\n",
    "plt.show()"
   ]
  },
  {
   "cell_type": "code",
   "execution_count": 163,
   "id": "94a45ea7-5d0e-49bd-bffc-4acd9d0975d6",
   "metadata": {},
   "outputs": [
    {
     "name": "stdout",
     "output_type": "stream",
     "text": [
      "Accuracy: 1.0000\n"
     ]
    }
   ],
   "source": [
    "from sklearn.linear_model import LogisticRegression\n",
    "\n",
    "# 데이터 스케일링\n",
    "scaler = StandardScaler()\n",
    "X_train_scaled = pd.DataFrame(scaler.fit_transform(X_train), columns=X_train.columns)\n",
    "X_test_scaled = pd.DataFrame(scaler.transform(X_test), columns=X_train.columns)\n",
    "\n",
    "# 로지스틱 회귀 모델 학습 (max_iter 늘리고, solver 변경)\n",
    "model = LogisticRegression(solver='liblinear', max_iter=5000, random_state=42)\n",
    "model.fit(X_train_scaled, y_train)\n",
    "\n",
    "# 예측\n",
    "y_pred = model.predict(X_test_scaled)\n",
    "\n",
    "# 정확도 평가\n",
    "accuracy = accuracy_score(y_test, y_pred)\n",
    "print(f\"Accuracy: {accuracy:.4f}\")"
   ]
  },
  {
   "cell_type": "code",
   "execution_count": 164,
   "id": "3437db15-3fd8-454e-a087-dd0cb0c957af",
   "metadata": {},
   "outputs": [
    {
     "name": "stdout",
     "output_type": "stream",
     "text": [
      "최적 하이퍼파라미터: {'C': 0.1, 'penalty': 'l2', 'solver': 'lbfgs'}\n",
      "최고 정확도: 0.9928571428571429\n",
      "튜닝 후 정확도: 1.0\n"
     ]
    }
   ],
   "source": [
    "# 하이퍼파라미터 튜닝: 'solver'와 'penalty' 조건을 맞추기 위해 필터링\n",
    "from sklearn.model_selection import GridSearchCV\n",
    "param_grid = [{'C': [0.0001, 0.001, 0.01, 0.1, 1, 10, 100], 'penalty': ['l1'], 'solver': ['liblinear']}, {'C': [0.0001, 0.001, 0.01, 0.1, 1, 10, 100], 'penalty': ['l2'], 'solver': ['lbfgs']}]\n",
    "\n",
    "# GridSearchCV로 최적화\n",
    "grid_search = GridSearchCV(model, param_grid, cv=5, scoring=\"accuracy\")\n",
    "grid_search.fit(X_train_scaled, y_train)\n",
    "\n",
    "#하이퍼 파라미터 튜닝 후 정확도\n",
    "print(\"최적 하이퍼파라미터:\", grid_search.best_params_)\n",
    "print(\"최고 정확도:\", grid_search.best_score_)\n",
    "tuned_model = grid_search.best_estimator_\n",
    "print(\"튜닝 후 정확도:\", accuracy_score(y_test, tuned_model.predict(X_test_scaled)))"
   ]
  },
  {
   "cell_type": "code",
   "execution_count": 39,
   "id": "b320933f-7fc7-4e7d-a127-2df3a1b70fef",
   "metadata": {},
   "outputs": [
    {
     "name": "stdout",
     "output_type": "stream",
     "text": [
      "Confusion Matrix:\n",
      "[[13  1  0]\n",
      " [ 0 14  0]\n",
      " [ 1  0  7]]\n",
      "Confusion Matrix (튜닝 후):\n",
      "[[14  0  0]\n",
      " [ 0 14  0]\n",
      " [ 0  0  8]]\n"
     ]
    },
    {
     "data": {
      "image/png": "[encoded data removed]",
      "text/plain": [
       "<Figure size 1200x500 with 2 Axes>"
      ]
     },
     "metadata": {},
     "output_type": "display_data"
    }
   ],
   "source": [
    "from sklearn.metrics import confusion_matrix, ConfusionMatrixDisplay\n",
    "import matplotlib.pyplot as plt\n",
    "\n",
    "conf_matrix = confusion_matrix(y_test, y_pred)\n",
    "y_pred_tuned = tuned_model.predict(X_test_scaled)\n",
    "conf_matrix_tuned = confusion_matrix(y_test, y_pred_tuned)\n",
    "\n",
    "print(\"Confusion Matrix:\")\n",
    "print(conf_matrix)\n",
    "print(\"Confusion Matrix (튜닝 후):\")\n",
    "print(conf_matrix_tuned)\n",
    "\n",
    "fig, axes = plt.subplots(1, 2, figsize=(12, 5))\n",
    "\n",
    "disp1 = ConfusionMatrixDisplay(confusion_matrix=conf_matrix)\n",
    "disp1.plot(ax=axes[0], cmap='Blues', colorbar=False)\n",
    "axes[0].set_title(\"Confusion Matrix (Basic)\")\n",
    "\n",
    "disp2 = ConfusionMatrixDisplay(confusion_matrix=conf_matrix_tuned)\n",
    "disp2.plot(ax=axes[1], cmap='Greens', colorbar=False)\n",
    "axes[1].set_title(\"Confusion Matrix (Tuned)\")\n",
    "\n",
    "plt.tight_layout()\n",
    "plt.show()"
   ]
  }
 ],
 "metadata": {
  "kernelspec": {
   "display_name": "Python 3 (ipykernel)",
   "language": "python",
   "name": "python3"
  },
  "language_info": {
   "codemirror_mode": {
    "name": "ipython",
    "version": 3
   },
   "file_extension": ".py",
   "mimetype": "text/x-python",
   "name": "python",
   "nbconvert_exporter": "python",
   "pygments_lexer": "ipython3",
   "version": "3.12.7"
  }
 },
 "nbformat": 4,
 "nbformat_minor": 5
}
