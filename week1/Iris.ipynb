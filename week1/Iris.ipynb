{
 "cells": [
  {
   "cell_type": "code",
   "execution_count": 47,
   "id": "f64f76e1-1db3-4b8e-a029-3b51fc869863",
   "metadata": {},
   "outputs": [],
   "source": [
    "#Week 1 iris.csv"
   ]
  },
  {
   "cell_type": "code",
   "execution_count": 49,
   "id": "ac7fac59-8874-4f7f-be93-eeec0b0b6c4d",
   "metadata": {},
   "outputs": [],
   "source": [
    "import pandas as pd\n",
    "from sklearn.model_selection import train_test_split\n",
    "from sklearn.tree import DecisionTreeClassifier\n",
    "from sklearn.ensemble import RandomForestClassifier\n",
    "from sklearn.svm import SVC\n",
    "from sklearn.linear_model import LogisticRegression\n",
    "from sklearn.metrics import accuracy_score"
   ]
  },
  {
   "cell_type": "code",
   "execution_count": 51,
   "id": "a6014d19-0bb8-452d-825b-26f617ac66f0",
   "metadata": {},
   "outputs": [],
   "source": [
    "# 🔹 pandas Result configuration"
   ]
  },
  {
   "cell_type": "code",
   "execution_count": 53,
   "id": "72eb49ff-b4c4-43b7-9448-66a59eeaac5b",
   "metadata": {},
   "outputs": [],
   "source": [
    "pd.set_option('display.max_rows', None)\n",
    "pd.set_option('display.max_columns', None)"
   ]
  },
  {
   "cell_type": "code",
   "execution_count": 55,
   "id": "778fd2e3-c15e-4eb9-9417-4d5449397f2b",
   "metadata": {},
   "outputs": [],
   "source": [
    "# 🔹 Read CSV file"
   ]
  },
  {
   "cell_type": "code",
   "execution_count": 57,
   "id": "ffaf0caf-1d40-4f91-a4f3-06d272493533",
   "metadata": {},
   "outputs": [],
   "source": [
    "df = pd.read_csv(\"iris.csv\")  # 파일 경로를 정확히 지정해야 함"
   ]
  },
  {
   "cell_type": "code",
   "execution_count": 59,
   "id": "7a813e9d-8e3b-442a-be4f-52e437448d0b",
   "metadata": {},
   "outputs": [],
   "source": [
    "# 🔹 Distribution of labels"
   ]
  },
  {
   "cell_type": "code",
   "execution_count": 61,
   "id": "8d4e30c5-0545-4bb7-975b-61752cfe489e",
   "metadata": {},
   "outputs": [],
   "source": [
    "X = df.iloc[:, :-1]  # 마지막 열을 제외한 나머지 열을 X로 설정\n",
    "y = df.iloc[:, -1]   # 마지막 열을 y로 설정 (라벨)"
   ]
  },
  {
   "cell_type": "code",
   "execution_count": 63,
   "id": "1170df8d-c8fb-482c-908a-18937fbb8252",
   "metadata": {},
   "outputs": [],
   "source": [
    "# 🔹 Train&Test"
   ]
  },
  {
   "cell_type": "code",
   "execution_count": 65,
   "id": "7fba277f-fc34-4cb5-be7a-e2959e2f4401",
   "metadata": {},
   "outputs": [],
   "source": [
    "X_train, X_test, y_train, y_test = train_test_split(X, y, test_size=0.2, random_state=42)"
   ]
  },
  {
   "cell_type": "code",
   "execution_count": 67,
   "id": "026011d6-3b5e-4e3b-92e7-cbbc3810d98c",
   "metadata": {},
   "outputs": [],
   "source": [
    "# 🔹 Decision Tree"
   ]
  },
  {
   "cell_type": "code",
   "execution_count": 69,
   "id": "86af48aa-5c22-4952-a184-4691720b9738",
   "metadata": {
    "scrolled": true
   },
   "outputs": [
    {
     "name": "stdout",
     "output_type": "stream",
     "text": [
      "Decision Tree Accuracy: 1.0\n"
     ]
    }
   ],
   "source": [
    "dt_model = DecisionTreeClassifier(random_state=42)\n",
    "dt_model.fit(X_train, y_train)\n",
    "dt_pred = dt_model.predict(X_test)\n",
    "print(\"Decision Tree Accuracy:\", accuracy_score(y_test, dt_pred))"
   ]
  },
  {
   "cell_type": "code",
   "execution_count": 71,
   "id": "eff77ed1-5a7e-43c0-b076-13437f4f5cb8",
   "metadata": {},
   "outputs": [],
   "source": [
    "# 🔹 Random Forest"
   ]
  },
  {
   "cell_type": "code",
   "execution_count": 73,
   "id": "9066ee21-5699-43c5-8a95-82f637242c3a",
   "metadata": {},
   "outputs": [
    {
     "name": "stdout",
     "output_type": "stream",
     "text": [
      "Random Forest Accuracy: 1.0\n"
     ]
    }
   ],
   "source": [
    "rf_model = RandomForestClassifier(random_state=42)\n",
    "rf_model.fit(X_train, y_train)\n",
    "rf_pred = rf_model.predict(X_test)\n",
    "print(\"Random Forest Accuracy:\", accuracy_score(y_test, rf_pred))"
   ]
  },
  {
   "cell_type": "code",
   "execution_count": 75,
   "id": "43ae9c57-10ec-435a-8ce8-4cf5e8c21a95",
   "metadata": {},
   "outputs": [],
   "source": [
    "# 🔹 SVM"
   ]
  },
  {
   "cell_type": "code",
   "execution_count": 77,
   "id": "7de8bc97-d0ad-47dd-9e1b-98dae03c4f1f",
   "metadata": {},
   "outputs": [
    {
     "name": "stdout",
     "output_type": "stream",
     "text": [
      "SVM Accuracy: 1.0\n"
     ]
    }
   ],
   "source": [
    "svm_model = SVC(random_state=42)\n",
    "svm_model.fit(X_train, y_train)\n",
    "svm_pred = svm_model.predict(X_test)\n",
    "print(\"SVM Accuracy:\", accuracy_score(y_test, svm_pred))"
   ]
  },
  {
   "cell_type": "code",
   "execution_count": 79,
   "id": "a9f824d6-b889-4daa-a3f5-38c512ad7ad4",
   "metadata": {},
   "outputs": [],
   "source": [
    "# 🔹 Logistic Regression"
   ]
  },
  {
   "cell_type": "code",
   "execution_count": 81,
   "id": "f12a1715-d5d1-4975-b482-967268688e87",
   "metadata": {},
   "outputs": [
    {
     "name": "stdout",
     "output_type": "stream",
     "text": [
      "Logistic Regression Accuracy: 1.0\n"
     ]
    }
   ],
   "source": [
    "lr_model = LogisticRegression(random_state=42, max_iter=200)\n",
    "lr_model.fit(X_train, y_train)\n",
    "lr_pred = lr_model.predict(X_test)\n",
    "print(\"Logistic Regression Accuracy:\", accuracy_score(y_test, lr_pred))"
   ]
  },
  {
   "cell_type": "code",
   "execution_count": 83,
   "id": "b5900868-3bc8-4cfe-898c-052de2bdaeee",
   "metadata": {},
   "outputs": [],
   "source": [
    "# 🔹 DataFrame Result"
   ]
  },
  {
   "cell_type": "code",
   "execution_count": 85,
   "id": "97b5afbb-b4e3-4903-8237-7649a5e914e2",
   "metadata": {},
   "outputs": [
    {
     "name": "stdout",
     "output_type": "stream",
     "text": [
      "     SepalLength  SepalWidth  PetalLength  PetalWidth             Name\n",
      "0            5.1         3.5          1.4         0.2      Iris-setosa\n",
      "1            4.9         3.0          1.4         0.2      Iris-setosa\n",
      "2            4.7         3.2          1.3         0.2      Iris-setosa\n",
      "3            4.6         3.1          1.5         0.2      Iris-setosa\n",
      "4            5.0         3.6          1.4         0.2      Iris-setosa\n",
      "5            5.4         3.9          1.7         0.4      Iris-setosa\n",
      "6            4.6         3.4          1.4         0.3      Iris-setosa\n",
      "7            5.0         3.4          1.5         0.2      Iris-setosa\n",
      "8            4.4         2.9          1.4         0.2      Iris-setosa\n",
      "9            4.9         3.1          1.5         0.1      Iris-setosa\n",
      "10           5.4         3.7          1.5         0.2      Iris-setosa\n",
      "11           4.8         3.4          1.6         0.2      Iris-setosa\n",
      "12           4.8         3.0          1.4         0.1      Iris-setosa\n",
      "13           4.3         3.0          1.1         0.1      Iris-setosa\n",
      "14           5.8         4.0          1.2         0.2      Iris-setosa\n",
      "15           5.7         4.4          1.5         0.4      Iris-setosa\n",
      "16           5.4         3.9          1.3         0.4      Iris-setosa\n",
      "17           5.1         3.5          1.4         0.3      Iris-setosa\n",
      "18           5.7         3.8          1.7         0.3      Iris-setosa\n",
      "19           5.1         3.8          1.5         0.3      Iris-setosa\n",
      "20           5.4         3.4          1.7         0.2      Iris-setosa\n",
      "21           5.1         3.7          1.5         0.4      Iris-setosa\n",
      "22           4.6         3.6          1.0         0.2      Iris-setosa\n",
      "23           5.1         3.3          1.7         0.5      Iris-setosa\n",
      "24           4.8         3.4          1.9         0.2      Iris-setosa\n",
      "25           5.0         3.0          1.6         0.2      Iris-setosa\n",
      "26           5.0         3.4          1.6         0.4      Iris-setosa\n",
      "27           5.2         3.5          1.5         0.2      Iris-setosa\n",
      "28           5.2         3.4          1.4         0.2      Iris-setosa\n",
      "29           4.7         3.2          1.6         0.2      Iris-setosa\n",
      "30           4.8         3.1          1.6         0.2      Iris-setosa\n",
      "31           5.4         3.4          1.5         0.4      Iris-setosa\n",
      "32           5.2         4.1          1.5         0.1      Iris-setosa\n",
      "33           5.5         4.2          1.4         0.2      Iris-setosa\n",
      "34           4.9         3.1          1.5         0.1      Iris-setosa\n",
      "35           5.0         3.2          1.2         0.2      Iris-setosa\n",
      "36           5.5         3.5          1.3         0.2      Iris-setosa\n",
      "37           4.9         3.1          1.5         0.1      Iris-setosa\n",
      "38           4.4         3.0          1.3         0.2      Iris-setosa\n",
      "39           5.1         3.4          1.5         0.2      Iris-setosa\n",
      "40           5.0         3.5          1.3         0.3      Iris-setosa\n",
      "41           4.5         2.3          1.3         0.3      Iris-setosa\n",
      "42           4.4         3.2          1.3         0.2      Iris-setosa\n",
      "43           5.0         3.5          1.6         0.6      Iris-setosa\n",
      "44           5.1         3.8          1.9         0.4      Iris-setosa\n",
      "45           4.8         3.0          1.4         0.3      Iris-setosa\n",
      "46           5.1         3.8          1.6         0.2      Iris-setosa\n",
      "47           4.6         3.2          1.4         0.2      Iris-setosa\n",
      "48           5.3         3.7          1.5         0.2      Iris-setosa\n",
      "49           5.0         3.3          1.4         0.2      Iris-setosa\n",
      "50           7.0         3.2          4.7         1.4  Iris-versicolor\n",
      "51           6.4         3.2          4.5         1.5  Iris-versicolor\n",
      "52           6.9         3.1          4.9         1.5  Iris-versicolor\n",
      "53           5.5         2.3          4.0         1.3  Iris-versicolor\n",
      "54           6.5         2.8          4.6         1.5  Iris-versicolor\n",
      "55           5.7         2.8          4.5         1.3  Iris-versicolor\n",
      "56           6.3         3.3          4.7         1.6  Iris-versicolor\n",
      "57           4.9         2.4          3.3         1.0  Iris-versicolor\n",
      "58           6.6         2.9          4.6         1.3  Iris-versicolor\n",
      "59           5.2         2.7          3.9         1.4  Iris-versicolor\n",
      "60           5.0         2.0          3.5         1.0  Iris-versicolor\n",
      "61           5.9         3.0          4.2         1.5  Iris-versicolor\n",
      "62           6.0         2.2          4.0         1.0  Iris-versicolor\n",
      "63           6.1         2.9          4.7         1.4  Iris-versicolor\n",
      "64           5.6         2.9          3.6         1.3  Iris-versicolor\n",
      "65           6.7         3.1          4.4         1.4  Iris-versicolor\n",
      "66           5.6         3.0          4.5         1.5  Iris-versicolor\n",
      "67           5.8         2.7          4.1         1.0  Iris-versicolor\n",
      "68           6.2         2.2          4.5         1.5  Iris-versicolor\n",
      "69           5.6         2.5          3.9         1.1  Iris-versicolor\n",
      "70           5.9         3.2          4.8         1.8  Iris-versicolor\n",
      "71           6.1         2.8          4.0         1.3  Iris-versicolor\n",
      "72           6.3         2.5          4.9         1.5  Iris-versicolor\n",
      "73           6.1         2.8          4.7         1.2  Iris-versicolor\n",
      "74           6.4         2.9          4.3         1.3  Iris-versicolor\n",
      "75           6.6         3.0          4.4         1.4  Iris-versicolor\n",
      "76           6.8         2.8          4.8         1.4  Iris-versicolor\n",
      "77           6.7         3.0          5.0         1.7  Iris-versicolor\n",
      "78           6.0         2.9          4.5         1.5  Iris-versicolor\n",
      "79           5.7         2.6          3.5         1.0  Iris-versicolor\n",
      "80           5.5         2.4          3.8         1.1  Iris-versicolor\n",
      "81           5.5         2.4          3.7         1.0  Iris-versicolor\n",
      "82           5.8         2.7          3.9         1.2  Iris-versicolor\n",
      "83           6.0         2.7          5.1         1.6  Iris-versicolor\n",
      "84           5.4         3.0          4.5         1.5  Iris-versicolor\n",
      "85           6.0         3.4          4.5         1.6  Iris-versicolor\n",
      "86           6.7         3.1          4.7         1.5  Iris-versicolor\n",
      "87           6.3         2.3          4.4         1.3  Iris-versicolor\n",
      "88           5.6         3.0          4.1         1.3  Iris-versicolor\n",
      "89           5.5         2.5          4.0         1.3  Iris-versicolor\n",
      "90           5.5         2.6          4.4         1.2  Iris-versicolor\n",
      "91           6.1         3.0          4.6         1.4  Iris-versicolor\n",
      "92           5.8         2.6          4.0         1.2  Iris-versicolor\n",
      "93           5.0         2.3          3.3         1.0  Iris-versicolor\n",
      "94           5.6         2.7          4.2         1.3  Iris-versicolor\n",
      "95           5.7         3.0          4.2         1.2  Iris-versicolor\n",
      "96           5.7         2.9          4.2         1.3  Iris-versicolor\n",
      "97           6.2         2.9          4.3         1.3  Iris-versicolor\n",
      "98           5.1         2.5          3.0         1.1  Iris-versicolor\n",
      "99           5.7         2.8          4.1         1.3  Iris-versicolor\n",
      "100          6.3         3.3          6.0         2.5   Iris-virginica\n",
      "101          5.8         2.7          5.1         1.9   Iris-virginica\n",
      "102          7.1         3.0          5.9         2.1   Iris-virginica\n",
      "103          6.3         2.9          5.6         1.8   Iris-virginica\n",
      "104          6.5         3.0          5.8         2.2   Iris-virginica\n",
      "105          7.6         3.0          6.6         2.1   Iris-virginica\n",
      "106          4.9         2.5          4.5         1.7   Iris-virginica\n",
      "107          7.3         2.9          6.3         1.8   Iris-virginica\n",
      "108          6.7         2.5          5.8         1.8   Iris-virginica\n",
      "109          7.2         3.6          6.1         2.5   Iris-virginica\n",
      "110          6.5         3.2          5.1         2.0   Iris-virginica\n",
      "111          6.4         2.7          5.3         1.9   Iris-virginica\n",
      "112          6.8         3.0          5.5         2.1   Iris-virginica\n",
      "113          5.7         2.5          5.0         2.0   Iris-virginica\n",
      "114          5.8         2.8          5.1         2.4   Iris-virginica\n",
      "115          6.4         3.2          5.3         2.3   Iris-virginica\n",
      "116          6.5         3.0          5.5         1.8   Iris-virginica\n",
      "117          7.7         3.8          6.7         2.2   Iris-virginica\n",
      "118          7.7         2.6          6.9         2.3   Iris-virginica\n",
      "119          6.0         2.2          5.0         1.5   Iris-virginica\n",
      "120          6.9         3.2          5.7         2.3   Iris-virginica\n",
      "121          5.6         2.8          4.9         2.0   Iris-virginica\n",
      "122          7.7         2.8          6.7         2.0   Iris-virginica\n",
      "123          6.3         2.7          4.9         1.8   Iris-virginica\n",
      "124          6.7         3.3          5.7         2.1   Iris-virginica\n",
      "125          7.2         3.2          6.0         1.8   Iris-virginica\n",
      "126          6.2         2.8          4.8         1.8   Iris-virginica\n",
      "127          6.1         3.0          4.9         1.8   Iris-virginica\n",
      "128          6.4         2.8          5.6         2.1   Iris-virginica\n",
      "129          7.2         3.0          5.8         1.6   Iris-virginica\n",
      "130          7.4         2.8          6.1         1.9   Iris-virginica\n",
      "131          7.9         3.8          6.4         2.0   Iris-virginica\n",
      "132          6.4         2.8          5.6         2.2   Iris-virginica\n",
      "133          6.3         2.8          5.1         1.5   Iris-virginica\n",
      "134          6.1         2.6          5.6         1.4   Iris-virginica\n",
      "135          7.7         3.0          6.1         2.3   Iris-virginica\n",
      "136          6.3         3.4          5.6         2.4   Iris-virginica\n",
      "137          6.4         3.1          5.5         1.8   Iris-virginica\n",
      "138          6.0         3.0          4.8         1.8   Iris-virginica\n",
      "139          6.9         3.1          5.4         2.1   Iris-virginica\n",
      "140          6.7         3.1          5.6         2.4   Iris-virginica\n",
      "141          6.9         3.1          5.1         2.3   Iris-virginica\n",
      "142          5.8         2.7          5.1         1.9   Iris-virginica\n",
      "143          6.8         3.2          5.9         2.3   Iris-virginica\n",
      "144          6.7         3.3          5.7         2.5   Iris-virginica\n",
      "145          6.7         3.0          5.2         2.3   Iris-virginica\n",
      "146          6.3         2.5          5.0         1.9   Iris-virginica\n",
      "147          6.5         3.0          5.2         2.0   Iris-virginica\n",
      "148          6.2         3.4          5.4         2.3   Iris-virginica\n",
      "149          5.9         3.0          5.1         1.8   Iris-virginica\n"
     ]
    }
   ],
   "source": [
    "print(df)"
   ]
  }
 ],
 "metadata": {
  "kernelspec": {
   "display_name": "Python 3 (ipykernel)",
   "language": "python",
   "name": "python3"
  },
  "language_info": {
   "codemirror_mode": {
    "name": "ipython",
    "version": 3
   },
   "file_extension": ".py",
   "mimetype": "text/x-python",
   "name": "python",
   "nbconvert_exporter": "python",
   "pygments_lexer": "ipython3",
   "version": "3.12.7"
  }
 },
 "nbformat": 4,
 "nbformat_minor": 5
}
