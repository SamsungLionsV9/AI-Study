{
 "cells": [
  {
   "cell_type": "code",
   "execution_count": 136,
   "id": "f64f76e1-1db3-4b8e-a029-3b51fc869863",
   "metadata": {},
   "outputs": [
    {
     "name": "stdout",
     "output_type": "stream",
     "text": [
      "   SepalLength  SepalWidth  PetalLength  PetalWidth         Name\n",
      "0          5.1         3.5          1.4         0.2  Iris-setosa\n",
      "1          4.9         3.0          1.4         0.2  Iris-setosa\n",
      "2          4.7         3.2          1.3         0.2  Iris-setosa\n",
      "3          4.6         3.1          1.5         0.2  Iris-setosa\n",
      "4          5.0         3.6          1.4         0.2  Iris-setosa\n",
      "Index(['SepalLength', 'SepalWidth', 'PetalLength', 'PetalWidth', 'Name'], dtype='object')\n"
     ]
    }
   ],
   "source": [
    "import pandas as pd\n",
    "# CSV 파일 로드 (파일 경로 수정 필수)\n",
    "file_path = \"./iris.csv\"\n",
    "df = pd.read_csv(file_path)\n",
    "\n",
    "# 데이터 확인\n",
    "print(df.head())\n",
    "print(df.columns)"
   ]
  },
  {
   "cell_type": "code",
   "execution_count": 138,
   "id": "a52247fc-7ab3-440d-9140-c9f62ff77345",
   "metadata": {
    "jupyter": {
     "source_hidden": true
    }
   },
   "outputs": [],
   "source": [
    "from sklearn.model_selection import train_test_split\n",
    "from sklearn.tree import DecisionTreeClassifier\n",
    "from sklearn.ensemble import RandomForestClassifier\n",
    "from sklearn.svm import SVC\n",
    "from sklearn.linear_model import LogisticRegression\n",
    "from sklearn.metrics import accuracy_score\n",
    "from sklearn.preprocessing import StandardScaler"
   ]
  },
  {
   "cell_type": "code",
   "execution_count": 140,
   "id": "492f3f5e-afcf-46a3-b698-309f7a989c73",
   "metadata": {},
   "outputs": [],
   "source": [
    "# 특성과 레이블 분리\n",
    "X = df.iloc[:, :-1]  # 마지막 열을 제외한 모든 열 (특성)\n",
    "y = df.iloc[:, -1]   # 마지막 열 (레이블)\n",
    "\n",
    "# 데이터셋을 학습용(train)과 테스트용(test)으로 분리 (6:4 비율)\n",
    "X_train, X_test, y_train, y_test = train_test_split(X, y, test_size=0.4, random_state=42)"
   ]
  },
  {
   "cell_type": "code",
   "execution_count": 142,
   "id": "55aaaab8-4955-43b7-b018-9978904ceba0",
   "metadata": {},
   "outputs": [],
   "source": [
    "# SVM과 Logistic Regression만 정규화 적용\n",
    "scaler = StandardScaler()\n",
    "X_train_scaled = scaler.fit_transform(X_train)  # 학습 데이터 변환\n",
    "X_test_scaled = scaler.transform(X_test)  # 테스트 데이터 변환"
   ]
  },
  {
   "cell_type": "code",
   "execution_count": 144,
   "id": "bdac3cd7-13b0-4d12-ab89-21dbfbbde961",
   "metadata": {},
   "outputs": [],
   "source": [
    "# 모델 리스트\n",
    "models = {\n",
    "    \"Decision Tree\": DecisionTreeClassifier(random_state=42),\n",
    "    \"Random Forest\": RandomForestClassifier(random_state=42),\n",
    "    \"Support Vector Machine\": SVC(random_state=42),\n",
    "    \"Logistic Regression\": LogisticRegression(max_iter=200)\n",
    "}"
   ]
  },
  {
   "cell_type": "code",
   "execution_count": 146,
   "id": "3ef48f04-809e-4573-a4ed-aeac248b7325",
   "metadata": {},
   "outputs": [
    {
     "name": "stdout",
     "output_type": "stream",
     "text": [
      "Decision Tree 정확도: 0.9667\n",
      "Random Forest 정확도: 0.9833\n",
      "Support Vector Machine 정확도: 1.0000\n",
      "Logistic Regression 정확도: 0.9833\n"
     ]
    }
   ],
   "source": [
    "for name, model in models.items():\n",
    "    if name in [\"SVM\", \"Logistic Regression\"]:\n",
    "        model.fit(X_train_scaled, y_train)  # 정규화된 데이터 사용\n",
    "        y_pred = model.predict(X_test_scaled)\n",
    "    else:\n",
    "        model.fit(X_train, y_train)  # 원본 데이터 사용\n",
    "        y_pred = model.predict(X_test)\n",
    "\n",
    "    accuracy = accuracy_score(y_test, y_pred)\n",
    "    print(f\"{name} 정확도: {accuracy:.4f}\")"
   ]
  }
 ],
 "metadata": {
  "kernelspec": {
   "display_name": "Python 3 (ipykernel)",
   "language": "python",
   "name": "python3"
  },
  "language_info": {
   "codemirror_mode": {
    "name": "ipython",
    "version": 3
   },
   "file_extension": ".py",
   "mimetype": "text/x-python",
   "name": "python",
   "nbconvert_exporter": "python",
   "pygments_lexer": "ipython3",
   "version": "3.12.7"
  }
 },
 "nbformat": 4,
 "nbformat_minor": 5
}
